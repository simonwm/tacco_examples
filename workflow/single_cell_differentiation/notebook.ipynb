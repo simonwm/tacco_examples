{
 "cells": [
  {
   "cell_type": "markdown",
   "metadata": {},
   "source": [
    "# Single-cell differentiation"
   ]
  },
  {
   "cell_type": "markdown",
   "metadata": {},
   "source": [
    "This example uses TACCO to predict the fate of single cells in a hematopoietic setting comparing against experimental ground truth (Weinreb et al.) and other methods.\n",
    "\n",
    "(Weinreb et al.): Weinreb C, Rodriguez-Fraticelli A, Camargo FD, Klein AM. Lineage tracing on transcriptional landscapes links state to fate during differentiation. Science. 2020 Feb 14;367(6479):eaaw3381. doi: 10.1126/science.aaw3381. Epub 2020 Jan 23. PMID: 31974159; PMCID: PMC7608074."
   ]
  },
  {
   "cell_type": "code",
   "execution_count": null,
   "metadata": {},
   "outputs": [],
   "source": [
    "import os\n",
    "import sys\n",
    "\n",
    "import matplotlib\n",
    "import matplotlib.pyplot as plt\n",
    "import pandas as pd\n",
    "import numpy as np\n",
    "import anndata as ad\n",
    "\n",
    "import tacco as tc\n",
    "\n",
    "# The notebook expects to be executed either in the workflow directory or in the repository root folder...\n",
    "sys.path.insert(1, os.path.abspath('workflow' if os.path.exists('workflow/common_code.py') else '..')) \n",
    "import common_code"
   ]
  },
  {
   "cell_type": "markdown",
   "metadata": {},
   "source": [
    "## Load data"
   ]
  },
  {
   "cell_type": "code",
   "execution_count": null,
   "metadata": {},
   "outputs": [],
   "source": [
    "data_path = common_code.find_path('results/single_cell_differentiation/data')\n",
    "plot_path = common_code.find_path('results/single_cell_differentiation')\n",
    "env_path = common_code.find_path('results/env_links')"
   ]
  },
  {
   "cell_type": "code",
   "execution_count": null,
   "metadata": {},
   "outputs": [],
   "source": [
    "d4d6 = ad.read(f'{data_path}/d4_d6_differentiation.h5ad')"
   ]
  },
  {
   "cell_type": "code",
   "execution_count": null,
   "metadata": {},
   "outputs": [],
   "source": [
    "d2 = ad.read(f'{data_path}/d2_differentiation.h5ad')"
   ]
  },
  {
   "cell_type": "markdown",
   "metadata": {},
   "source": [
    "## Plotting options"
   ]
  },
  {
   "cell_type": "code",
   "execution_count": null,
   "metadata": {},
   "outputs": [],
   "source": [
    "highres = False\n",
    "default_dpi = 100.0 # matplotlib.rcParams['figure.dpi']\n",
    "if highres:\n",
    "    matplotlib.rcParams['figure.dpi'] = 648.0\n",
    "    hr_ext = '_hd'\n",
    "else:\n",
    "    matplotlib.rcParams['figure.dpi'] = default_dpi\n",
    "    hr_ext = ''\n",
    "\n",
    "axsize = np.array([4,3])*0.5\n",
    "\n",
    "x = 'SPRING-x'\n",
    "y = 'SPRING-y'\n",
    "\n",
    "dummy_val = 'dummy'\n",
    "only_gray = {dummy_val:'#CCCCCC'}\n",
    "color_dict = {\n",
    "    'Neutrophil': '#e9ff00',\n",
    "    'Erythroid': '#5a00ff',\n",
    "    'Monocyte': '#0039ff',\n",
    "    'Meg': '#00ff00',\n",
    "    'Mast': '#ff00a3',\n",
    "    'Baso': '#ff8100',\n",
    "    'Lymphoid': '#00caff',\n",
    "    'Eos': '#eb00ff',\n",
    "    'Ccr7_DC': '#00ff00',\n",
    "    'pDC': '#00faa4',\n",
    "}"
   ]
  },
  {
   "cell_type": "markdown",
   "metadata": {},
   "source": [
    "## Run fate prediction"
   ]
  },
  {
   "cell_type": "markdown",
   "metadata": {},
   "source": [
    "Use a set of different methods for comparison"
   ]
  },
  {
   "cell_type": "code",
   "execution_count": null,
   "metadata": {},
   "outputs": [],
   "source": [
    "method_configs = {\n",
    "    'TACCO':   { 'method': 'OT', 'multi_center': 10, }, # multi_center=10 takes into account variation within a single class\n",
    "    'WOT':     { 'method': 'WOT', },\n",
    "    'SVM':     { 'method': 'svm', },\n",
    "    'NMFreg':  { 'method': 'NMFreg', },\n",
    "    'SingleR': { 'method': 'SingleR', 'conda_env': f'{env_path}/SingleR_env', },\n",
    "    'RCTD':    { 'method': 'RCTD', 'conda_env': f'{env_path}/RCTD_env', },\n",
    "}\n",
    "benchmark_results = {}\n",
    "for method, params in method_configs.items():\n",
    "    print(f'running method {method!r}')\n",
    "    tc.tl.annotate(d2, d4d6, annotation_key='Cell type annotation', result_key=method, **method_configs[method], assume_valid_counts=True,)\n",
    "plt.close(\"all\") # suppress side-effect plots from NMFreg"
   ]
  },
  {
   "cell_type": "markdown",
   "metadata": {},
   "source": [
    "## Plot results"
   ]
  },
  {
   "cell_type": "markdown",
   "metadata": {},
   "source": [
    "Plot gray background of day 2 data when showing annotation of day 4 and day 6 data and vice versa. "
   ]
  },
  {
   "cell_type": "code",
   "execution_count": null,
   "metadata": {},
   "outputs": [],
   "source": [
    "joint = ad.concat([d2,d4d6],)\n",
    "for method in method_configs.keys():\n",
    "    joint.obsm[method] = d2.obsm[method].reindex(joint.obs.index)\n",
    "joint.obsm['type_2'] = d2.obsm['clone_fate'].reindex(joint.obs.index)\n",
    "joint.obs['type_46'] = d4d6.obs['Cell type annotation'].reindex(joint.obs.index)\n",
    "dummy_key = tc.utils.find_unused_key(joint.obs)\n",
    "joint.obs[dummy_key] = dummy_val"
   ]
  },
  {
   "cell_type": "code",
   "execution_count": null,
   "metadata": {},
   "outputs": [],
   "source": [
    "fig,axs = tc.pl.subplots(3, axsize=axsize)\n",
    "\n",
    "tc.pl.scatter(joint, joint=True, position_key=[x,y], ax=axs[0,0], legend=False, point_size=3, keys=dummy_key, colors=only_gray, noticks=True)\n",
    "tc.pl.scatter(joint, joint=True, position_key=[x,y], ax=axs[0,0], legend=False, point_size=3, keys='type_46', colors=color_dict, noticks=True)\n",
    "\n",
    "tc.pl.scatter(joint, joint=True, position_key=[x,y], ax=axs[0,1], legend=False, point_size=3, keys=dummy_key, colors=only_gray, noticks=True)\n",
    "tc.pl.scatter(joint, joint=True, position_key=[x,y], ax=axs[0,1], legend=False, point_size=3, keys='type_2',  colors=color_dict, noticks=True)\n",
    "\n",
    "tc.pl.scatter(joint, joint=True, position_key=[x,y], ax=axs[0,2], legend=False, point_size=3, keys=dummy_key, colors=only_gray, noticks=True)\n",
    "tc.pl.scatter(joint, joint=True, position_key=[x,y], ax=axs[0,2], legend=True,  point_size=3, keys='TACCO',  colors=color_dict, noticks=True)\n",
    "\n",
    "fig.savefig(f'{plot_path}/differentiation_spring{hr_ext}.pdf',bbox_inches='tight')"
   ]
  },
  {
   "cell_type": "markdown",
   "metadata": {},
   "source": [
    "Show the annotations of all methods"
   ]
  },
  {
   "cell_type": "code",
   "execution_count": null,
   "metadata": {
    "tags": [
     "nbsphinx-thumbnail"
    ]
   },
   "outputs": [],
   "source": [
    "n_panels = len(method_configs)+1\n",
    "fig,axs = tc.pl.subplots((n_panels+1)//2, 2, axsize=axsize, y_padding=0.5)\n",
    "axs = axs.flatten()\n",
    "\n",
    "tc.pl.scatter(joint, joint=True, position_key=[x,y], ax=axs[0], legend=False, point_size=3, keys=dummy_key, colors=only_gray, noticks=True)\n",
    "tc.pl.scatter(joint, joint=True, position_key=[x,y], ax=axs[0], legend=False, point_size=3, keys='type_2',  colors=color_dict, noticks=True)\n",
    "axs[0].set_title('clone differentiation')\n",
    "\n",
    "for i_method,method in enumerate(method_configs.keys()):\n",
    "    tc.pl.scatter(joint, joint=True, position_key=[x,y], ax=axs[i_method+1], legend=False, point_size=3, keys=dummy_key, colors=only_gray, noticks=True)\n",
    "    tc.pl.scatter(joint, joint=True, position_key=[x,y], ax=axs[i_method+1], legend=(i_method == len(method_configs)-1),  point_size=3, keys=method,  colors=color_dict, noticks=True)\n",
    "    axs[i_method+1].set_title(method)\n",
    "if len(method_configs) + 1 != len(axs):\n",
    "    axs[-1].axis('off')\n",
    "\n",
    "fig.savefig(f'{plot_path}/differentiation_d2_supp{hr_ext}.pdf',bbox_inches='tight')"
   ]
  },
  {
   "cell_type": "code",
   "execution_count": null,
   "metadata": {},
   "outputs": [],
   "source": []
  }
 ],
 "metadata": {
  "kernelspec": {
   "display_name": "Python 3",
   "language": "python",
   "name": "python3"
  },
  "language_info": {
   "codemirror_mode": {
    "name": "ipython",
    "version": 3
   },
   "file_extension": ".py",
   "mimetype": "text/x-python",
   "name": "python",
   "nbconvert_exporter": "python",
   "pygments_lexer": "ipython3",
   "version": "3.8.3"
  }
 },
 "nbformat": 4,
 "nbformat_minor": 4
}
