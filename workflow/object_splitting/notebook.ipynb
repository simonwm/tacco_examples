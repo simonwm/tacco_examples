{
 "cells": [
  {
   "cell_type": "markdown",
   "metadata": {},
   "source": [
    "# Object splitting for in-silico mixed scRNA-seq data and Slide-Seq data"
   ]
  },
  {
   "cell_type": "markdown",
   "metadata": {},
   "source": [
    "This example uses TACCO to annotate in-silico mixtures of mouse colon scRNA-seq data and mouse colon slide-Seq data (Avraham-Davidi et al.) and split them into \"pure\" measurements corresponding to single cell type only.\n",
    "\n",
    "(Avraham-Davidi et al.): Avraham-Davidi I, Mages S, Klughammer J, et al. Integrative single cell and spatial transcriptomics of colorectal cancer reveals multicellular functional units that support tumor progression. doi: https://doi.org/10.1101/2022.10.02.508492"
   ]
  },
  {
   "cell_type": "code",
   "execution_count": null,
   "metadata": {},
   "outputs": [],
   "source": [
    "import os\n",
    "import sys\n",
    "import matplotlib\n",
    "\n",
    "import pandas as pd\n",
    "import numpy as np\n",
    "import anndata as ad\n",
    "\n",
    "import tacco as tc\n",
    "\n",
    "# The notebook expects to be executed either in the workflow directory or in the repository root folder...\n",
    "sys.path.insert(1, os.path.abspath('workflow' if os.path.exists('workflow/common_code.py') else '..')) \n",
    "import common_code"
   ]
  },
  {
   "cell_type": "markdown",
   "metadata": {},
   "source": [
    "## Load data"
   ]
  },
  {
   "cell_type": "code",
   "execution_count": null,
   "metadata": {},
   "outputs": [],
   "source": [
    "reference_data_path = common_code.find_path('results/slideseq_mouse_colon/data')\n",
    "plot_path = common_code.find_path('results/object_splitting', create_if_not_existent=True)"
   ]
  },
  {
   "cell_type": "code",
   "execution_count": null,
   "metadata": {},
   "outputs": [],
   "source": [
    "reference = ad.read(f'{reference_data_path}/scrnaseq.h5ad')\n",
    "tdata = ad.read(f'{reference_data_path}/slideseq.h5ad')"
   ]
  },
  {
   "cell_type": "markdown",
   "metadata": {},
   "source": [
    "## Plotting options"
   ]
  },
  {
   "cell_type": "code",
   "execution_count": null,
   "metadata": {},
   "outputs": [],
   "source": [
    "highres = False\n",
    "default_dpi = 100.0\n",
    "if highres:\n",
    "    matplotlib.rcParams['figure.dpi'] = 648.0\n",
    "    hr_ext = '_hd'\n",
    "else:\n",
    "    matplotlib.rcParams['figure.dpi'] = default_dpi\n",
    "    hr_ext = ''\n",
    "\n",
    "axsize = np.array([3,3])*1.0\n",
    "\n",
    "labels_colors = pd.Series({'Epi': (0.00784313725490196, 0.24313725490196078, 1.0), 'B': (0.10196078431372549, 0.788235294117647, 0.2196078431372549), 'TNK': (1.0, 0.48627450980392156, 0.0), 'Mono': (0.5490196078431373, 0.03137254901960784, 0.0), 'Mac': (0.9098039215686274, 0.0, 0.043137254901960784), 'Gran': (0.34901960784313724, 0.11764705882352941, 0.44313725490196076), 'Mast': (0.23529411764705882, 0.23529411764705882, 0.23529411764705882), 'Endo': (0.8549019607843137, 0.5450980392156862, 0.7647058823529411), 'Fibro': (0.6235294117647059, 0.2823529411764706, 0.0)})"
   ]
  },
  {
   "cell_type": "markdown",
   "metadata": {},
   "source": [
    "## Define splitting tasks"
   ]
  },
  {
   "cell_type": "markdown",
   "metadata": {},
   "source": [
    "Generate a reference with balanced type composition, i.e. with the same number of cells for each type"
   ]
  },
  {
   "cell_type": "code",
   "execution_count": null,
   "metadata": {},
   "outputs": [],
   "source": [
    "n_labels = reference.obs['labels'].value_counts()\n",
    "n_labels = n_labels[n_labels>200]\n",
    "min_n = n_labels.min()\n",
    "balanced = reference[np.concatenate([ tc.utils.complete_choice(reference.obs.query(f'labels == {label!r}').index, min_n) for label in n_labels.index ])].copy()"
   ]
  },
  {
   "cell_type": "markdown",
   "metadata": {},
   "source": [
    "Generate in-silico mixtures of scRNA-seq data to benchmark methods with a known ground truth"
   ]
  },
  {
   "cell_type": "code",
   "execution_count": null,
   "metadata": {},
   "outputs": [],
   "source": [
    "def mixit(reference,capture_rate):\n",
    "    tdata = tc.tl.mix_in_silico(reference, type_key='labels', n_samples=len(reference), bead_shape='gauss', bead_size=1.0, capture_rate=capture_rate,)\n",
    "    tdata.obsm['reads_labels'] /= tdata.obsm['reads_labels'].to_numpy().sum(axis=1)[:,None]\n",
    "    return tdata"
   ]
  },
  {
   "cell_type": "markdown",
   "metadata": {},
   "source": [
    "Define the tasks as reference data + mixed data"
   ]
  },
  {
   "cell_type": "code",
   "execution_count": null,
   "metadata": {},
   "outputs": [],
   "source": [
    "problems = {\n",
    "    'balanced reference\\n capture_rate=1.0': [balanced,mixit(balanced,capture_rate=1.0),],\n",
    "    'balanced reference\\n capture_rate=0.1': [balanced,mixit(balanced,capture_rate=0.1),],\n",
    "    ' full reference\\ncapture_rate=1.0': [reference,mixit(reference,capture_rate=1.0),],\n",
    "    ' full reference\\ncapture_rate=0.1': [reference,mixit(reference,capture_rate=0.1),],\n",
    "    'full reference\\n  slide_seq': [reference,tdata,],\n",
    "}"
   ]
  },
  {
   "cell_type": "markdown",
   "metadata": {},
   "source": [
    "## Create comparison grid"
   ]
  },
  {
   "cell_type": "markdown",
   "metadata": {},
   "source": [
    "Create grid of plots with tasks in the rows and UMAPs showing different aspects in the columns:\n",
    "- ground truth mixture annotations (where available)\n",
    "- TACCO mixture annotation (generated from the mixtures and the reference)\n",
    "- reference data\n",
    "- split mixtures"
   ]
  },
  {
   "cell_type": "code",
   "execution_count": null,
   "metadata": {
    "tags": [
     "nbsphinx-thumbnail"
    ]
   },
   "outputs": [],
   "source": [
    "fig,axs=tc.pl.subplots(4,len(problems),x_padding=0.3, y_padding=0.5,axsize=axsize);\n",
    "for ip, pn in enumerate(problems.keys()):\n",
    "    ref, adata = problems[pn]\n",
    "    \n",
    "    # annotate the mixtures, and keep the extra information for the object splitting\n",
    "    adata, ref2 = tc.tl.annotate(adata, ref, 'labels', result_key='TACCO', multi_center=10, reconstruction_key='rec', return_reference=True)\n",
    "\n",
    "    ref2, adata, ref = tc.pp.filter([ref2, adata, ref], return_view=False, )\n",
    "    \n",
    "    # UMAP the mixtures\n",
    "    adata_umap = tc.utils.umap_single_cell_data(adata, hvg=True)\n",
    "    if 'reads_labels' in adata.obsm:\n",
    "        tc.pl.scatter(adata_umap, joint=True, position_key='X_umap',ax=axs[ip,0],legend=False, point_size=10, keys='reads_labels', colors=labels_colors, noticks=True);\n",
    "        axs[ip,0].set_title('ground truth mixture annotation')\n",
    "    else:\n",
    "        axs[ip,0].axis('off')\n",
    "    axs[ip,0].text(-0.2, 0.5, pn, fontsize='x-large', rotation=90, horizontalalignment='center', verticalalignment='center', transform=axs[ip,0].transAxes)\n",
    "    tc.pl.scatter(adata_umap, joint=True, position_key='X_umap',ax=axs[ip,1],legend=False, point_size=10, keys='TACCO', colors=labels_colors, noticks=True);\n",
    "    axs[ip,1].set_title('TACCO mixture annotation')\n",
    "\n",
    "    # split the mixtures\n",
    "    sdata = tc.tl.split_observations(adata, 'rec', map_obs_keys=True, result_key='labels')\n",
    "\n",
    "    # jointly preprocess and umap the split mixtures and the reference\n",
    "    prep_ref = tc.utils.preprocess_single_cell_data(ref, hvg=True)\n",
    "\n",
    "    ref_hvg = ref[:,sdata.var.index.intersection(prep_ref.var.index)]\n",
    "    ref_hvg = ref_hvg[tc.sum(ref_hvg.X,axis=1)>=100].copy()\n",
    "    sdata_hvg = sdata[:,sdata.var.index.intersection(prep_ref.var.index)]\n",
    "    if pn.endswith('capture_rate=1.0'):\n",
    "        thr=100\n",
    "    else:\n",
    "        thr=30\n",
    "    sdata_hvg = sdata_hvg[tc.sum(sdata_hvg.X,axis=1)>=thr].copy()\n",
    "    scat_hvg = ref_hvg.concatenate([sdata_hvg],index_unique=None)\n",
    "    umap_scat_hvg = tc.utils.umap_single_cell_data(scat_hvg, hvg=False)\n",
    "    ref_hvg.obsm['X_umap'] = pd.DataFrame(umap_scat_hvg.obsm['X_umap'],index=umap_scat_hvg.obs.index).reindex(ref_hvg.obs.index)\n",
    "    sdata_hvg.obsm['X_umap'] = pd.DataFrame(umap_scat_hvg.obsm['X_umap'],index=umap_scat_hvg.obs.index).reindex(sdata_hvg.obs.index)\n",
    "\n",
    "    dummy_key = tc.utils.find_unused_key(umap_scat_hvg.obs)\n",
    "    umap_scat_hvg.obs[dummy_key] = 'dummy'\n",
    "    only_gray = {t:'#CCCCCC' for t in umap_scat_hvg.obs[dummy_key].unique()}\n",
    "    tc.pl.scatter(umap_scat_hvg, joint=True, position_key='X_umap',ax=axs[ip,2], legend=False, point_size=10, keys=dummy_key, colors=only_gray, noticks=True)\n",
    "    tc.pl.scatter(umap_scat_hvg, joint=True, position_key='X_umap',ax=axs[ip,3], legend=False, point_size=10, keys=dummy_key, colors=only_gray, noticks=True)\n",
    "    tc.pl.scatter(umap_scat_hvg[ref_hvg.obs.index.intersection(umap_scat_hvg.obs.index)], joint=True, position_key='X_umap',ax=axs[ip,2], legend=False, point_size=8, keys='labels', colors=labels_colors, noticks=True)\n",
    "    tc.pl.scatter(umap_scat_hvg[sdata_hvg.obs.index.intersection(umap_scat_hvg.obs.index)], joint=True, position_key='X_umap',ax=axs[ip,3], legend=ip==0, point_size=10, keys='labels', colors=labels_colors, noticks=True);\n",
    "    axs[ip,2].set_title('reference data')\n",
    "    axs[ip,3].set_title('split mixtures')"
   ]
  },
  {
   "cell_type": "code",
   "execution_count": null,
   "metadata": {},
   "outputs": [],
   "source": []
  }
 ],
 "metadata": {
  "kernelspec": {
   "display_name": "Python 3",
   "language": "python",
   "name": "python3"
  },
  "language_info": {
   "codemirror_mode": {
    "name": "ipython",
    "version": 3
   },
   "file_extension": ".py",
   "mimetype": "text/x-python",
   "name": "python",
   "nbconvert_exporter": "python",
   "pygments_lexer": "ipython3",
   "version": "3.8.3"
  }
 },
 "nbformat": 4,
 "nbformat_minor": 4
}
