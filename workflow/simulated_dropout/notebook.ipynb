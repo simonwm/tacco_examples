{
 "cells": [
  {
   "cell_type": "markdown",
   "metadata": {},
   "source": [
    "# Simulated single cell expression data with dropout"
   ]
  },
  {
   "cell_type": "markdown",
   "metadata": {},
   "source": [
    "This example uses TACCO to annotate simulated single cell data, simulated using a modified variant (Moriel) of scsim (Kotliar).\n",
    "\n",
    "(Moriel): Moriel, N. Extension of scsim single-cell RNA-sequencing data simulations. github.com/nitzanlab/scsim-ext (2023)\n",
    "\n",
    "(Kotliar): Kotliar, D. scsim: simulate single-cell RNA-SEQ data using the Splatter statistical framework but implemented in python. github.com/dylkot/scsim (2021)"
   ]
  },
  {
   "cell_type": "code",
   "execution_count": null,
   "metadata": {},
   "outputs": [],
   "source": [
    "import os\n",
    "import sys\n",
    "import matplotlib\n",
    "\n",
    "import pandas as pd\n",
    "import numpy as np\n",
    "import scipy.sparse\n",
    "import scanpy as sc\n",
    "\n",
    "import tacco as tc\n",
    "from scsim import scsim\n",
    "\n",
    "# The notebook expects to be executed either in the workflow directory or in the repository root folder...\n",
    "sys.path.insert(1, os.path.abspath('workflow' if os.path.exists('workflow/common_code.py') else '..')) \n",
    "import common_code"
   ]
  },
  {
   "cell_type": "code",
   "execution_count": null,
   "metadata": {},
   "outputs": [],
   "source": [
    "env_path = common_code.find_path('results/env_links')"
   ]
  },
  {
   "cell_type": "markdown",
   "metadata": {},
   "source": [
    "## Simulate single cell data"
   ]
  },
  {
   "cell_type": "markdown",
   "metadata": {},
   "source": [
    "Simulate data with various dropout levels with a known ground truth"
   ]
  },
  {
   "cell_type": "code",
   "execution_count": null,
   "metadata": {},
   "outputs": [],
   "source": [
    "ngenes = 25000\n",
    "descale = 1.0\n",
    "ndoublets = 100\n",
    "K = 13\n",
    "nproggenes = 1000\n",
    "proggroups = [1,2,3,4]\n",
    "progcellfrac = .35\n",
    "ncells = 1500\n",
    "deprob = .025\n",
    "\n",
    "seed = 111\n",
    "\n",
    "deloc = 2.0\n",
    "\n",
    "# simulating true counts (in simulator.counts)\n",
    "simulator = scsim(ngenes=ngenes, ncells=ncells, ngroups=K, libloc=7.64, libscale=0.78,\n",
    "             mean_rate=7.68,mean_shape=0.34, expoutprob=0.00286,\n",
    "             expoutloc=6.15, expoutscale=0.49,\n",
    "             diffexpprob=deprob, diffexpdownprob=0., diffexploc=deloc, diffexpscale=descale,\n",
    "             bcv_dispersion=0.448, bcv_dof=22.087, ndoublets=ndoublets,\n",
    "             nproggenes=nproggenes, progdownprob=0., progdeloc=deloc,\n",
    "             progdescale=descale, progcellfrac=progcellfrac, proggoups=proggroups,\n",
    "             minprogusage=.1, maxprogusage=.7, seed=seed)\n",
    "simulator.simulate()"
   ]
  },
  {
   "cell_type": "code",
   "execution_count": null,
   "metadata": {},
   "outputs": [],
   "source": [
    "reference = sc.AnnData(scipy.sparse.csr_matrix(simulator.counts), obs=simulator.cellparams, var=simulator.geneparams)\n",
    "reference.obs['group'] = reference.obs['group'].astype('category')\n",
    "# fitting number of zeros vs log mean curve\n",
    "dropshape, dropmidpoint = simulator.fit_dropout()\n",
    "dropout_midpoints = [1.0,-1.0,-3.0,-5.0,-7.0]\n",
    "\n",
    "# to add technical dropout noise, we can decrease the sigmoid's dropmidpoint to increase the dropout (in simulator.countswdrop)\n",
    "sdatas = {}\n",
    "for dropout_midpoint in dropout_midpoints:\n",
    "    simulator.dropshape = dropshape\n",
    "    simulator.dropmidpoint = dropout_midpoint\n",
    "    simulator.simulate_dropouts()\n",
    "\n",
    "    sdata = sc.AnnData(scipy.sparse.csr_matrix(simulator.countswdrop), obs=simulator.cellparams, var=simulator.geneparams)\n",
    "    sdata.obs['group'] = sdata.obs['group'].astype('category')\n",
    "    \n",
    "    sdatas[dropout_midpoint] = sdata"
   ]
  },
  {
   "cell_type": "markdown",
   "metadata": {},
   "source": [
    "## Plotting options"
   ]
  },
  {
   "cell_type": "code",
   "execution_count": null,
   "metadata": {},
   "outputs": [],
   "source": [
    "highres = False\n",
    "default_dpi = 100.0\n",
    "if highres:\n",
    "    matplotlib.rcParams['figure.dpi'] = 648.0\n",
    "    hr_ext = '_hd'\n",
    "else:\n",
    "    matplotlib.rcParams['figure.dpi'] = default_dpi\n",
    "    hr_ext = ''\n",
    "\n",
    "axsize = np.array([3,3])*1.0"
   ]
  },
  {
   "cell_type": "markdown",
   "metadata": {},
   "source": [
    "## Visualize simulated data without dropout"
   ]
  },
  {
   "cell_type": "markdown",
   "metadata": {},
   "source": [
    "Create UMAP for the simulated data without dropout"
   ]
  },
  {
   "cell_type": "code",
   "execution_count": null,
   "metadata": {},
   "outputs": [],
   "source": [
    "ref_umap = tc.utils.umap_single_cell_data(reference)\n",
    "fig = tc.pl.scatter(ref_umap, keys='group', position_key='X_umap', joint=True, point_size=5, axsize=axsize, noticks=True,\n",
    "axes_labels=['UMAP 0','UMAP 1']);"
   ]
  },
  {
   "cell_type": "markdown",
   "metadata": {},
   "source": [
    "## Visualize simulated data with dropout"
   ]
  },
  {
   "cell_type": "markdown",
   "metadata": {},
   "source": [
    "Create UMAP for the simulated data with dropout"
   ]
  },
  {
   "cell_type": "code",
   "execution_count": null,
   "metadata": {},
   "outputs": [],
   "source": [
    "tdata = sdatas[-1.0]\n",
    "tdata_umap = tc.utils.umap_single_cell_data(tdata)\n",
    "fig = tc.pl.scatter(tdata_umap, keys='group', position_key='X_umap', joint=True, point_size=5, axsize=axsize, noticks=True,\n",
    "axes_labels=['UMAP 0','UMAP 1']);"
   ]
  },
  {
   "cell_type": "markdown",
   "metadata": {},
   "source": [
    "## Annotate the data with dropout with cell types"
   ]
  },
  {
   "cell_type": "markdown",
   "metadata": {},
   "source": [
    "Annotation is done on cell type level with multi_center=10 to capture variation within a cell type."
   ]
  },
  {
   "cell_type": "code",
   "execution_count": null,
   "metadata": {},
   "outputs": [],
   "source": [
    "tc.tl.annotate(tdata, reference, 'group', result_key='TACCO', multi_center=10, assume_valid_counts=True)"
   ]
  },
  {
   "cell_type": "markdown",
   "metadata": {},
   "source": [
    "## Benchmark annotation methods on the simulated dropout data"
   ]
  },
  {
   "cell_type": "markdown",
   "metadata": {},
   "source": [
    "Define parameters for the annotation methods to use"
   ]
  },
  {
   "cell_type": "code",
   "execution_count": null,
   "metadata": {},
   "outputs": [],
   "source": [
    "methods = {\n",
    "    'NMFreg':{'method': 'NMFreg',},\n",
    "    'RCTD':{'method': 'RCTD', 'conda_env': f'{env_path}/RCTD_env',},\n",
    "    'SVM':{'method':'svm',},\n",
    "    'SingleR':{'method':'SingleR', 'conda_env': f'{env_path}/SingleR_env',},\n",
    "    'WOT':{'method': 'WOT',},\n",
    "    'TACCO': {'method': 'OT', 'multi_center': 10,},\n",
    "}"
   ]
  },
  {
   "cell_type": "code",
   "execution_count": null,
   "metadata": {},
   "outputs": [],
   "source": [
    "results = {}\n",
    "for dropout_midpoint in dropout_midpoints:\n",
    "    for method,params in methods.items():\n",
    "        print(f'running method {method} for dropout midpoint {dropout_midpoint} ...', end='')\n",
    "        try:\n",
    "            results[(dropout_midpoint,method)] = tc.benchmarking.benchmark_annotate(sdatas[dropout_midpoint],reference,annotation_key='group',**params, assume_valid_counts=True);\n",
    "        except:\n",
    "            pass # catch failing methods\n",
    "        print(f'done')"
   ]
  },
  {
   "cell_type": "code",
   "execution_count": null,
   "metadata": {},
   "outputs": [],
   "source": [
    "for (dropout_midpoint,method),result in results.items():\n",
    "    unused_key = tc.utils.find_unused_key(sdatas[dropout_midpoint].obsm)\n",
    "    sdatas[dropout_midpoint].obsm[unused_key] = results[(dropout_midpoint,method)]['annotation']\n",
    "    max_correct = tc.ev.compute_err(sdatas[dropout_midpoint], unused_key, 'group', err_method='max_correct')[unused_key]\n",
    "    del sdatas[dropout_midpoint].obsm[unused_key]\n",
    "    results[(dropout_midpoint,method)]['max_correct'] = max_correct"
   ]
  },
  {
   "cell_type": "code",
   "execution_count": null,
   "metadata": {},
   "outputs": [],
   "source": [
    "res_df = pd.DataFrame([\n",
    "    [dropout_midpoint,method,v['max_correct'],v['max_mem_usage_GB'],v['benchmark_time_s']]\n",
    "    for (dropout_midpoint,method),v in results.items()\n",
    "],columns=['dropout_midpoint','method','max_correct','memory (GB)','time (s)'])\n",
    "quantities = [c for c in res_df.columns if c not in ['dropout_midpoint','method'] ]\n",
    "methods = res_df['method'].unique()"
   ]
  },
  {
   "cell_type": "code",
   "execution_count": null,
   "metadata": {
    "tags": [
     "nbsphinx-thumbnail"
    ]
   },
   "outputs": [],
   "source": [
    "fig,axs = tc.pl.subplots(1,len(quantities), axsize=np.array([4,3])*0.4, x_padding=0.7, y_padding=0.5)\n",
    "colors = {m:common_code.method_color(m) for m in methods}\n",
    "styles = {m:common_code.method_style(m) for m in methods}\n",
    "res_df = res_df.loc[~res_df[quantities].isna().all(axis=1)]\n",
    "for iy_ax, qty in enumerate(quantities):\n",
    "    ax = axs[iy_ax,0]\n",
    "\n",
    "    x = res_df['dropout_midpoint']\n",
    "    y = res_df[qty]\n",
    "\n",
    "    if qty == 'time (s)': # part 1 of adding second, minute and hour marker: plot the lines under the data\n",
    "\n",
    "        ynew = np.array([0.1,1,10,60,600,3600,36000])\n",
    "        ynew_minor = np.concatenate([np.arange(0.1,1,0.1),np.arange(1,10,1),np.arange(10,60,10),np.arange(60,600,60),np.arange(600,3600,600),np.arange(3600,36000,3600)]).flatten()\n",
    "        ynewlabels = np.array(['0.1s','1s','10s','1min','10min','1h','10h'])\n",
    "        ymin = y.min() * 0.5\n",
    "        ymax = y.max() * 2.0\n",
    "        ynewlabels = ynewlabels[(ynew > ymin) & (ynew < ymax)]\n",
    "        ynew = ynew[(ynew > ymin) & (ynew < ymax)]\n",
    "        ynew_minor = ynew_minor[(ynew_minor > ymin) & (ynew_minor < ymax)]\n",
    "        for yn in ynew:\n",
    "            ax.axhline(yn, color='gray', linewidth=0.5)\n",
    "\n",
    "    elif qty == 'memory (GB)':\n",
    "\n",
    "        ynew = np.array([0.1,0.4,1,4,10,40,100])\n",
    "        ynew_minor = np.concatenate([np.arange(0.1,1,0.1),np.arange(1,10,1),np.arange(10,100,10),np.arange(100,1000,100)]).flatten()\n",
    "        ynewlabels = np.array(['0.1GB','0.4GB','1GB','4GB','10GB','40GB','100GB'])\n",
    "        ymin = y.min() * 0.5\n",
    "        ymax = y.max() * 2.0\n",
    "        ynewlabels = ynewlabels[(ynew > ymin) & (ynew < ymax)]\n",
    "        ynew = ynew[(ynew > ymin) & (ynew < ymax)]\n",
    "        ynew_minor = ynew_minor[(ynew_minor > ymin) & (ynew_minor < ymax)]\n",
    "        for yn in ynew:\n",
    "            ax.axhline(yn, color='gray', linewidth=0.5)\n",
    "\n",
    "    for m in methods:\n",
    "        selector = res_df['method'] == m\n",
    "        if selector.sum() == 0:\n",
    "            continue\n",
    "        ax.plot(x[selector],y[selector],label=m,marker='o',color=colors[m],ls=styles[m],)\n",
    "    if iy_ax == axs.shape[0] - 1:\n",
    "        ax.set_xlabel('bead size')\n",
    "    if qty == 'time (s)':\n",
    "        ax.set_ylabel('runtime')\n",
    "    elif qty == 'memory (GB)':\n",
    "        ax.set_ylabel('memory')\n",
    "    else:\n",
    "        ax.set_ylabel(f'{qty}')\n",
    "    if qty in ['time (s)','memory (GB)']:\n",
    "        ax.set_yscale('log')\n",
    "\n",
    "    if qty in ['time (s)','memory (GB)']: # part 2 off adding second, minute and hour marker: add the second y axis after rescaling the first y axis to log scale\n",
    "        ax.set_yticks(ynew_minor,minor=True)\n",
    "        ax.set_yticks(ynew)\n",
    "        ax.set_yticklabels(ynewlabels)\n",
    "        ax.set_yticklabels([],minor=True)\n",
    "\n",
    "    if iy_ax == 0:\n",
    "        ax.legend(bbox_to_anchor=(1, 1), loc='upper left', ncol=1)"
   ]
  },
  {
   "cell_type": "code",
   "execution_count": null,
   "metadata": {},
   "outputs": [],
   "source": []
  }
 ],
 "metadata": {
  "kernelspec": {
   "display_name": "Python 3",
   "language": "python",
   "name": "python3"
  },
  "language_info": {
   "codemirror_mode": {
    "name": "ipython",
    "version": 3
   },
   "file_extension": ".py",
   "mimetype": "text/x-python",
   "name": "python",
   "nbconvert_exporter": "python",
   "pygments_lexer": "ipython3",
   "version": "3.8.3"
  }
 },
 "nbformat": 4,
 "nbformat_minor": 4
}
