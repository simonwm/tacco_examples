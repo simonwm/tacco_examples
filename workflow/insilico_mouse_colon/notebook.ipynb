{
 "cells": [
  {
   "cell_type": "markdown",
   "metadata": {},
   "source": [
    "# In-silico mixed Mouse Colon scRNA-seq data"
   ]
  },
  {
   "cell_type": "markdown",
   "metadata": {},
   "source": [
    "This example uses TACCO to annotate and analyse in-silico mixtures of mouse colon scRNA-seq data (Avraham-Davidi et al.).\n",
    "\n",
    "(Avraham-Davidi et al.): Avraham-Davidi I, Mages S, Klughammer J, et al. Integrative single cell and spatial transcriptomics of colorectal cancer reveals multicellular functional units that support tumor progression. doi: https://doi.org/10.1101/2022.10.02.508492"
   ]
  },
  {
   "cell_type": "code",
   "execution_count": null,
   "metadata": {},
   "outputs": [],
   "source": [
    "import os\n",
    "import sys\n",
    "import matplotlib\n",
    "\n",
    "import pandas as pd\n",
    "import numpy as np\n",
    "import anndata as ad\n",
    "\n",
    "import tacco as tc\n",
    "\n",
    "# The notebook expects to be executed either in the workflow directory or in the repository root folder...\n",
    "sys.path.insert(1, os.path.abspath('workflow' if os.path.exists('workflow/common_code.py') else '..')) \n",
    "import common_code"
   ]
  },
  {
   "cell_type": "markdown",
   "metadata": {},
   "source": [
    "## Load data"
   ]
  },
  {
   "cell_type": "code",
   "execution_count": null,
   "metadata": {},
   "outputs": [],
   "source": [
    "reference_data_path = common_code.find_path('results/slideseq_mouse_colon/data')\n",
    "plot_path = common_code.find_path('results/insilico_mouse_colon', create_if_not_existent=True)\n",
    "env_path = common_code.find_path('results/env_links')\n",
    "reference = ad.read(f'{reference_data_path}/scrnaseq.h5ad')"
   ]
  },
  {
   "cell_type": "markdown",
   "metadata": {},
   "source": [
    "## Mix data in-silico"
   ]
  },
  {
   "cell_type": "markdown",
   "metadata": {},
   "source": [
    "Generate in-silico mixtures of scRNA-seq data to benchmark methods with a known ground truth"
   ]
  },
  {
   "cell_type": "code",
   "execution_count": null,
   "metadata": {},
   "outputs": [],
   "source": [
    "bead_sizes = [0.5,1.0,1.5,2.0]\n",
    "\n",
    "capture_rate = 1.0\n",
    "bead_shape = 'gauss'\n",
    "ntdata_max = 10**4\n",
    "\n",
    "ref_annotation_key = 'labels'\n",
    "tdata_annotation_key = 'reads_' + ref_annotation_key\n",
    "\n",
    "sdatas = {}\n",
    "for bead_size in bead_sizes:\n",
    "    sdata = tc.tl.mix_in_silico(reference, type_key=ref_annotation_key, n_samples=ntdata_max, bead_shape=bead_shape, bead_size=bead_size, capture_rate=capture_rate,)\n",
    "    sdata.obsm[tdata_annotation_key] /= sdata.obsm[tdata_annotation_key].to_numpy().sum(axis=1)[:,None]\n",
    "    sdatas[bead_size] = sdata"
   ]
  },
  {
   "cell_type": "markdown",
   "metadata": {},
   "source": [
    "## Plotting options"
   ]
  },
  {
   "cell_type": "code",
   "execution_count": null,
   "metadata": {},
   "outputs": [],
   "source": [
    "highres = False\n",
    "default_dpi = 100.0\n",
    "if highres:\n",
    "    matplotlib.rcParams['figure.dpi'] = 648.0\n",
    "    hr_ext = '_hd'\n",
    "else:\n",
    "    matplotlib.rcParams['figure.dpi'] = default_dpi\n",
    "    hr_ext = ''\n",
    "\n",
    "axsize = np.array([4,3])*0.5\n",
    "\n",
    "labels_colors = pd.Series({'Epi': (0.00784313725490196, 0.24313725490196078, 1.0), 'B': (0.10196078431372549, 0.788235294117647, 0.2196078431372549), 'TNK': (1.0, 0.48627450980392156, 0.0), 'Mono': (0.5490196078431373, 0.03137254901960784, 0.0), 'Mac': (0.9098039215686274, 0.0, 0.043137254901960784), 'Gran': (0.34901960784313724, 0.11764705882352941, 0.44313725490196076), 'Mast': (0.23529411764705882, 0.23529411764705882, 0.23529411764705882), 'Endo': (0.8549019607843137, 0.5450980392156862, 0.7647058823529411), 'Fibro': (0.6235294117647059, 0.2823529411764706, 0.0)})"
   ]
  },
  {
   "cell_type": "markdown",
   "metadata": {},
   "source": [
    "## Visualize scRNA-seq data"
   ]
  },
  {
   "cell_type": "markdown",
   "metadata": {},
   "source": [
    "Create UMAP for the scRNA-seq data"
   ]
  },
  {
   "cell_type": "code",
   "execution_count": null,
   "metadata": {},
   "outputs": [],
   "source": [
    "ref_umap = tc.utils.umap_single_cell_data(reference)\n",
    "fig = tc.pl.scatter(ref_umap, keys='labels', position_key='X_umap', colors=labels_colors, joint=True, point_size=5, axsize=axsize, noticks=True,\n",
    "axes_labels=['UMAP 0','UMAP 1']);"
   ]
  },
  {
   "cell_type": "markdown",
   "metadata": {},
   "source": [
    "## Visualize in-silico mixtures"
   ]
  },
  {
   "cell_type": "markdown",
   "metadata": {},
   "source": [
    "Create UMAP for the in-silico mixtures"
   ]
  },
  {
   "cell_type": "code",
   "execution_count": null,
   "metadata": {
    "tags": [
     "nbsphinx-thumbnail"
    ]
   },
   "outputs": [],
   "source": [
    "tdata = sdatas[1.0]\n",
    "tdata_umap = tc.utils.umap_single_cell_data(tdata)\n",
    "fig = tc.pl.scatter(tdata_umap, keys=tdata_annotation_key, position_key='X_umap', colors=labels_colors, joint=True, point_size=5, axsize=axsize, noticks=True,\n",
    "axes_labels=['UMAP 0','UMAP 1']);"
   ]
  },
  {
   "cell_type": "markdown",
   "metadata": {},
   "source": [
    "## Benchmark annotation methods on the in-silico mixtures with known ground truth"
   ]
  },
  {
   "cell_type": "markdown",
   "metadata": {},
   "source": [
    "Define parameters for the annotation methods to use"
   ]
  },
  {
   "cell_type": "code",
   "execution_count": null,
   "metadata": {},
   "outputs": [],
   "source": [
    "methods = {\n",
    "    'NMFreg':{'method': 'NMFreg',},\n",
    "    'RCTD':{'method': 'RCTD', 'conda_env': f'{env_path}/RCTD_env',},\n",
    "    'SVM':{'method':'svm',},\n",
    "    'SingleR':{'method':'SingleR', 'conda_env': f'{env_path}/SingleR_env',},\n",
    "    'WOT':{'method': 'WOT',},\n",
    "    'TACCO': {'method': 'OT', 'multi_center': 10,},\n",
    "}"
   ]
  },
  {
   "cell_type": "code",
   "execution_count": null,
   "metadata": {},
   "outputs": [],
   "source": [
    "results = {}\n",
    "for bead_size in bead_sizes:\n",
    "    for method,params in methods.items():\n",
    "        print(f'running method {method} for bead size {bead_size} ...', end='')\n",
    "        results[(bead_size,method)] = tc.benchmarking.benchmark_annotate(sdatas[bead_size],reference,annotation_key='labels',**params);\n",
    "        print(f'done')"
   ]
  },
  {
   "cell_type": "code",
   "execution_count": null,
   "metadata": {},
   "outputs": [],
   "source": [
    "for (bead_size,method),result in results.items():\n",
    "    unused_key = tc.utils.find_unused_key(sdatas[bead_size].obsm)\n",
    "    sdatas[bead_size].obsm[unused_key] = results[(bead_size,method)]['annotation']\n",
    "    L2 = tc.ev.compute_err(sdatas[bead_size], unused_key, tdata_annotation_key, err_method='lp', p=2)[unused_key]\n",
    "    del sdatas[bead_size].obsm[unused_key]\n",
    "    results[(bead_size,method)]['L2'] = L2"
   ]
  },
  {
   "cell_type": "code",
   "execution_count": null,
   "metadata": {},
   "outputs": [],
   "source": [
    "res_df = pd.DataFrame([\n",
    "    [bead_size,method,v['L2'],v['max_mem_usage_GB'],v['benchmark_time_s']]\n",
    "    for (bead_size,method),v in results.items()\n",
    "],columns=['beadsize','method','L2 error','memory (GB)','time (s)'])\n",
    "quantities = [c for c in res_df.columns if c not in ['beadsize','method'] ]\n",
    "methods = res_df['method'].unique()"
   ]
  },
  {
   "cell_type": "code",
   "execution_count": null,
   "metadata": {},
   "outputs": [],
   "source": [
    "fig,axs = tc.pl.subplots(1,len(quantities), axsize=np.array([4,3])*0.4, x_padding=0.7, y_padding=0.5)\n",
    "colors = {m:common_code.method_color(m) for m in methods}\n",
    "styles = {m:common_code.method_style(m) for m in methods}\n",
    "res_df = res_df.loc[~res_df[quantities].isna().all(axis=1)]\n",
    "for iy_ax, qty in enumerate(quantities):\n",
    "    ax = axs[iy_ax,0]\n",
    "\n",
    "    x = res_df['beadsize']\n",
    "    y = res_df[qty]\n",
    "\n",
    "    if qty == 'time (s)': # part 1 of adding second, minute and hour marker: plot the lines under the data\n",
    "\n",
    "        ynew = np.array([0.1,1,10,60,600,3600,36000])\n",
    "        ynew_minor = np.concatenate([np.arange(0.1,1,0.1),np.arange(1,10,1),np.arange(10,60,10),np.arange(60,600,60),np.arange(600,3600,600),np.arange(3600,36000,3600)]).flatten()\n",
    "        ynewlabels = np.array(['0.1s','1s','10s','1min','10min','1h','10h'])\n",
    "        ymin = y.min() * 0.5\n",
    "        ymax = y.max() * 2.0\n",
    "        ynewlabels = ynewlabels[(ynew > ymin) & (ynew < ymax)]\n",
    "        ynew = ynew[(ynew > ymin) & (ynew < ymax)]\n",
    "        ynew_minor = ynew_minor[(ynew_minor > ymin) & (ynew_minor < ymax)]\n",
    "        for yn in ynew:\n",
    "            ax.axhline(yn, color='gray', linewidth=0.5)\n",
    "\n",
    "    elif qty == 'memory (GB)':\n",
    "\n",
    "        ynew = np.array([0.1,0.4,1,4,10,40,100])\n",
    "        ynew_minor = np.concatenate([np.arange(0.1,1,0.1),np.arange(1,10,1),np.arange(10,100,10),np.arange(100,1000,100)]).flatten()\n",
    "        ynewlabels = np.array(['0.1GB','0.4GB','1GB','4GB','10GB','40GB','100GB'])\n",
    "        ymin = y.min() * 0.5\n",
    "        ymax = y.max() * 2.0\n",
    "        ynewlabels = ynewlabels[(ynew > ymin) & (ynew < ymax)]\n",
    "        ynew = ynew[(ynew > ymin) & (ynew < ymax)]\n",
    "        ynew_minor = ynew_minor[(ynew_minor > ymin) & (ynew_minor < ymax)]\n",
    "        for yn in ynew:\n",
    "            ax.axhline(yn, color='gray', linewidth=0.5)\n",
    "\n",
    "    for m in methods:\n",
    "        selector = res_df['method'] == m\n",
    "        if selector.sum() == 0:\n",
    "            continue\n",
    "        ax.plot(x[selector],y[selector],label=m,marker='o',color=colors[m],ls=styles[m],)\n",
    "    if iy_ax == axs.shape[0] - 1:\n",
    "        ax.set_xlabel('bead size')\n",
    "    if qty == 'time (s)':\n",
    "        ax.set_ylabel('runtime')\n",
    "    elif qty == 'memory (GB)':\n",
    "        ax.set_ylabel('memory')\n",
    "    else:\n",
    "        ax.set_ylabel(f'{qty}')\n",
    "    if qty in ['time (s)','memory (GB)']:\n",
    "        ax.set_yscale('log')\n",
    "\n",
    "    if qty in ['time (s)','memory (GB)']: # part 2 off adding second, minute and hour marker: add the second y axis after rescaling the first y axis to log scale\n",
    "        ax.set_yticks(ynew_minor,minor=True)\n",
    "        ax.set_yticks(ynew)\n",
    "        ax.set_yticklabels(ynewlabels)\n",
    "        ax.set_yticklabels([],minor=True)\n",
    "\n",
    "    if iy_ax == 0:\n",
    "        ax.legend(bbox_to_anchor=(1, 1), loc='upper left', ncol=1)"
   ]
  },
  {
   "cell_type": "markdown",
   "metadata": {},
   "source": [
    "## Observation splitting"
   ]
  },
  {
   "cell_type": "markdown",
   "metadata": {},
   "source": [
    "### Annotate the spatial data with compositions of cell types"
   ]
  },
  {
   "cell_type": "markdown",
   "metadata": {},
   "source": [
    "Annotation is done on cell type level with multi_center=10 to capture variation within a cell type and with reconstruction_key set to save the annotation on the level of subclustered cell types for distributing all counts to pure cell type observations later."
   ]
  },
  {
   "cell_type": "code",
   "execution_count": null,
   "metadata": {},
   "outputs": [],
   "source": [
    "tc.tl.annotate(tdata, reference, 'labels', result_key='TACCO', multi_center=10, reconstruction_key='rec')"
   ]
  },
  {
   "cell_type": "markdown",
   "metadata": {},
   "source": [
    "### Split the mixed observations into pure contributions"
   ]
  },
  {
   "cell_type": "markdown",
   "metadata": {},
   "source": [
    "Here we use the annotation on the subcluster level, saved during annotation in the reconstruction_key."
   ]
  },
  {
   "cell_type": "code",
   "execution_count": null,
   "metadata": {},
   "outputs": [],
   "source": [
    "sdata = tc.tl.split_observations(tdata, 'rec', map_obs_keys=True, result_key='labels')"
   ]
  },
  {
   "cell_type": "markdown",
   "metadata": {},
   "source": [
    "### Visualize the split observations"
   ]
  },
  {
   "cell_type": "markdown",
   "metadata": {},
   "source": [
    "Create UMAP for the in-silico mixtures after observation split"
   ]
  },
  {
   "cell_type": "code",
   "execution_count": null,
   "metadata": {},
   "outputs": [],
   "source": [
    "umap_sdata = tc.utils.umap_single_cell_data(sdata[tc.sum(sdata.X,axis=1)>=500])\n",
    "fig = tc.pl.scatter(umap_sdata, 'labels', position_key='X_umap', colors=labels_colors, joint=True, point_size=5, axsize=axsize, noticks=True, axes_labels=['UMAP 0','UMAP 1']); "
   ]
  },
  {
   "cell_type": "markdown",
   "metadata": {},
   "source": [
    "Create UMAP for a joint embedding of reference and observation-split in-silico mixtures"
   ]
  },
  {
   "cell_type": "code",
   "execution_count": null,
   "metadata": {},
   "outputs": [],
   "source": [
    "prep_ref = tc.utils.preprocess_single_cell_data(reference, hvg=True)\n",
    "sdata.obs['HVGcounts'] = tc.sum(sdata[:,sdata.var.index.intersection(prep_ref.var.index)].X,axis=1)\n",
    "sdata = sdata[sdata.obs['HVGcounts']>=50].copy()\n",
    "scat = reference.concatenate([sdata],index_unique=None)\n",
    "umap_scat = tc.utils.umap_single_cell_data(scat)\n",
    "reference.obsm['X_umap'] = pd.DataFrame(umap_scat.obsm['X_umap'],index=umap_scat.obs.index).reindex(reference.obs.index)\n",
    "sdata.obsm['X_umap'] = pd.DataFrame(umap_scat.obsm['X_umap'],index=umap_scat.obs.index).reindex(sdata.obs.index)\n",
    "\n",
    "fig = tc.pl.scatter({'reference':reference,'split':sdata}, 'labels', position_key='X_umap', colors=labels_colors, joint=True, point_size=5, axsize=axsize, noticks=True, axes_labels=['UMAP 0','UMAP 1']); "
   ]
  },
  {
   "cell_type": "code",
   "execution_count": null,
   "metadata": {},
   "outputs": [],
   "source": []
  }
 ],
 "metadata": {
  "kernelspec": {
   "display_name": "Python 3",
   "language": "python",
   "name": "python3"
  },
  "language_info": {
   "codemirror_mode": {
    "name": "ipython",
    "version": 3
   },
   "file_extension": ".py",
   "mimetype": "text/x-python",
   "name": "python",
   "nbconvert_exporter": "python",
   "pygments_lexer": "ipython3",
   "version": "3.8.3"
  }
 },
 "nbformat": 4,
 "nbformat_minor": 4
}
