{
 "cells": [
  {
   "cell_type": "markdown",
   "metadata": {},
   "source": [
    "# Slide-Seq Mouse Olfactory Bulb - multiple pucks"
   ]
  },
  {
   "cell_type": "markdown",
   "metadata": {},
   "source": [
    "This example uses TACCO to annotate and analyse mouse olfactory bulb Slide-Seq data [Wang et al.] with mouse olfactory bulb scRNA-seq data [Tepe et al.] as reference.\n",
    "\n",
    "[Wang et al.]: Wang IH, Murray E, Andrews G, Jiang HC et al. Spatial transcriptomic reconstruction of the mouse olfactory glomerular map suggests principles of odor processing. Nat Neurosci 2022 Apr;25(4):484-492. PMID: 35314823\n",
    "\n",
    "[Tepe et al.]: Tepe B, Hill MC, Pekarek BT, Hunt PJ et al. Single-Cell RNA-Seq of Mouse Olfactory Bulb Reveals Cellular Heterogeneity and Activity-Dependent Molecular Census of Adult-Born Neurons. Cell Rep 2018 Dec 4;25(10):2689-2703.e3. PMID: 30517858"
   ]
  },
  {
   "cell_type": "code",
   "execution_count": null,
   "metadata": {},
   "outputs": [],
   "source": [
    "import os\n",
    "import warnings\n",
    "warnings.filterwarnings('ignore','invalid value encountered in true_divide')\n",
    "\n",
    "import pandas as pd\n",
    "import numpy as np\n",
    "import anndata as ad\n",
    "\n",
    "import tacco as tc"
   ]
  },
  {
   "cell_type": "markdown",
   "metadata": {},
   "source": [
    "## Load data"
   ]
  },
  {
   "cell_type": "code",
   "execution_count": null,
   "metadata": {},
   "outputs": [],
   "source": [
    "# The notebook expects to be executed either in the workflow directory or in the repository root folder\n",
    "data_path = 'results/slideseq_mouse_olfactory_bulb'\n",
    "if not os.path.exists(data_path):\n",
    "    data_path = f'../../{data_path}'\n",
    "\n",
    "if not os.path.exists(data_path):\n",
    "    raise ValueError(f'The path to the data for the slideseq_mouse_olfactory_bulb cannot be found!')\n"
   ]
  },
  {
   "cell_type": "code",
   "execution_count": null,
   "metadata": {},
   "outputs": [],
   "source": [
    "reference = ad.read(f'{data_path}/reference.h5ad')"
   ]
  },
  {
   "cell_type": "code",
   "execution_count": null,
   "metadata": {},
   "outputs": [],
   "source": [
    "pucks = ad.concat({f.split('.')[0]: ad.read(f'{data_path}/{f}') for f in os.listdir(data_path) if f.startswith('puck_')},label='puck',index_unique='-')"
   ]
  },
  {
   "cell_type": "code",
   "execution_count": null,
   "metadata": {},
   "outputs": [],
   "source": [
    "pucks.obs['replicate'] = pucks.obs['puck'].str.split('_').str[1].astype(int)\n",
    "pucks.obs['slide'] = pucks.obs['puck'].str.split('_').str[2].astype(int)\n",
    "unique_replicates = sorted(pucks.obs['replicate'].unique())\n",
    "unique_slides = sorted(pucks.obs['slide'].unique())\n",
    "pucks.obs['replicate'] = pucks.obs['replicate'].astype(pd.CategoricalDtype(unique_replicates,ordered=True))\n",
    "pucks.obs['slide'] = pucks.obs['slide'].astype(pd.CategoricalDtype(unique_slides,ordered=True))\n",
    "pucks.obs['puck'] = pucks.obs['puck'].astype(pd.CategoricalDtype([f'puck_{r}_{s}' for r in reversed(unique_replicates) for s in unique_slides],ordered=True))"
   ]
  },
  {
   "cell_type": "markdown",
   "metadata": {},
   "source": [
    "## Get a first impression of the spatial data"
   ]
  },
  {
   "cell_type": "markdown",
   "metadata": {},
   "source": [
    "Plot total counts"
   ]
  },
  {
   "cell_type": "code",
   "execution_count": null,
   "metadata": {},
   "outputs": [],
   "source": [
    "pucks.obs['total_counts'] = tc.sum(pucks.X,axis=1)\n",
    "pucks.obs['log10_counts'] = np.log10(1+pucks.obs['total_counts'])"
   ]
  },
  {
   "cell_type": "code",
   "execution_count": null,
   "metadata": {},
   "outputs": [],
   "source": [
    "fig,axs=tc.pl.subplots(len(unique_slides),len(unique_replicates), x_padding=1.5)\n",
    "fig = tc.pl.scatter(pucks, 'log10_counts', group_key='puck', cmap='viridis', cmap_vmin_vmax=[1,3], ax=axs[::-1].reshape((1,40)));\n",
    "fig.savefig(f'{data_path}/scatter_counts.pdf',bbox_inches='tight')"
   ]
  },
  {
   "cell_type": "markdown",
   "metadata": {},
   "source": [
    "Plot marker genes"
   ]
  },
  {
   "cell_type": "code",
   "execution_count": null,
   "metadata": {},
   "outputs": [],
   "source": [
    "cluster2type = reference.obs[['ClusterName','type']].drop_duplicates().groupby('type')['ClusterName'].agg(lambda x: list(x.to_numpy()))\n",
    "type2long = reference.obs[['type','long']].drop_duplicates().groupby('long')['type'].agg(lambda x: list(x.to_numpy()))"
   ]
  },
  {
   "cell_type": "code",
   "execution_count": null,
   "metadata": {},
   "outputs": [],
   "source": [
    "marker_map = {}\n",
    "for k,v in type2long.items():\n",
    "    genes = []\n",
    "    if '(' in k:\n",
    "        genes = k.split('(')[-1].split(')')[0].split('/')\n",
    "    marker_map[v[0]] = [g[:-1] for g in genes]"
   ]
  },
  {
   "cell_type": "code",
   "execution_count": null,
   "metadata": {},
   "outputs": [],
   "source": [
    "pucks.obsm['type_mrk'] = pd.DataFrame(0.0, index=pucks.obs.index, columns=sorted(reference.obs['type'].unique()))\n",
    "for k,v in marker_map.items():\n",
    "    for g in v:\n",
    "        pucks.obsm['type_mrk'][k] += pucks[:,g].X.A.flatten()\n",
    "    total = pucks.obsm['type_mrk'][k].sum()\n",
    "    if total > 0:\n",
    "        pucks.obsm['type_mrk'][k] /= total"
   ]
  },
  {
   "cell_type": "code",
   "execution_count": null,
   "metadata": {},
   "outputs": [],
   "source": [
    "fig,axs=tc.pl.subplots(len(unique_slides),len(unique_replicates))\n",
    "tc.pl.scatter(pucks, 'type_mrk', group_key='puck', ax=axs[::-1].reshape((1,40)), compositional=True);\n",
    "fig.savefig(f'{data_path}/scatter_marker.pdf',bbox_inches='tight')"
   ]
  },
  {
   "cell_type": "markdown",
   "metadata": {},
   "source": [
    "## Annotate the spatial data with compositions of cell types"
   ]
  },
  {
   "cell_type": "markdown",
   "metadata": {},
   "source": [
    "Annotation is done on cluster level to capture variation within a cell type..."
   ]
  },
  {
   "cell_type": "code",
   "execution_count": null,
   "metadata": {},
   "outputs": [],
   "source": [
    "tc.tl.annotate(pucks,reference,'ClusterName',result_key='ClusterName',)"
   ]
  },
  {
   "cell_type": "markdown",
   "metadata": {},
   "source": [
    "... and then aggregated to cell type level for visualization"
   ]
  },
  {
   "cell_type": "code",
   "execution_count": null,
   "metadata": {},
   "outputs": [],
   "source": [
    "tc.utils.merge_annotation(pucks, 'ClusterName', cluster2type, 'type');\n",
    "tc.utils.merge_annotation(pucks, 'type', type2long, 'long');"
   ]
  },
  {
   "cell_type": "code",
   "execution_count": null,
   "metadata": {
    "tags": [
     "nbsphinx-thumbnail"
    ]
   },
   "outputs": [],
   "source": [
    "fig,axs=tc.pl.subplots(len(unique_slides),len(unique_replicates))\n",
    "tc.pl.scatter(pucks, 'type', group_key='puck', ax=axs[::-1].reshape((1,40)));\n",
    "fig.savefig(f'{data_path}/scatter_type.pdf',bbox_inches='tight')"
   ]
  },
  {
   "cell_type": "markdown",
   "metadata": {},
   "source": [
    "## Analyse co-occurrence and neighbourhips"
   ]
  },
  {
   "cell_type": "markdown",
   "metadata": {},
   "source": [
    "Calculate distance matrices per sample and evaluate different spatial metrics on that. Using sparse distance matrices is useful if one is interested only in small distances relative to the sample size."
   ]
  },
  {
   "cell_type": "code",
   "execution_count": null,
   "metadata": {},
   "outputs": [],
   "source": [
    "tc.tl.co_occurrence(pucks, 'type', sample_key='puck', result_key='type-type',delta_distance=20,max_distance=1000,sparse=False,n_permutation=10)"
   ]
  },
  {
   "cell_type": "code",
   "execution_count": null,
   "metadata": {},
   "outputs": [],
   "source": [
    "fig = tc.pl.co_occurrence(pucks, 'type-type', log_base=2, wspace=0.25);\n",
    "fig.savefig(f'{data_path}/cooc_line.pdf',bbox_inches='tight')"
   ]
  },
  {
   "cell_type": "code",
   "execution_count": null,
   "metadata": {},
   "outputs": [],
   "source": [
    "fig = tc.pl.co_occurrence_matrix(pucks, 'type-type', score_key='z', restrict_intervals=[0,1,3,7],cmap_vmin_vmax=[-5,5], value_cluster=True, group_cluster=True);\n",
    "fig.savefig(f'{data_path}/cooc_matrix.pdf',bbox_inches='tight')"
   ]
  },
  {
   "cell_type": "code",
   "execution_count": null,
   "metadata": {},
   "outputs": [],
   "source": []
  }
 ],
 "metadata": {
  "kernelspec": {
   "display_name": "Python 3",
   "language": "python",
   "name": "python3"
  },
  "language_info": {
   "codemirror_mode": {
    "name": "ipython",
    "version": 3
   },
   "file_extension": ".py",
   "mimetype": "text/x-python",
   "name": "python",
   "nbconvert_exporter": "python",
   "pygments_lexer": "ipython3",
   "version": "3.8.3"
  }
 },
 "nbformat": 4,
 "nbformat_minor": 4
}
