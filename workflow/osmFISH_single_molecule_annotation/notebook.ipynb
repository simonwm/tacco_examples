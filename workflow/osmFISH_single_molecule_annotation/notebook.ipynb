{
 "cells": [
  {
   "cell_type": "markdown",
   "metadata": {},
   "source": [
    "# Single molecule data: osmFISH mouse somato-sensory cortex"
   ]
  },
  {
   "cell_type": "markdown",
   "metadata": {},
   "source": [
    "This example uses TACCO to annotate and analyse mouse somato-sensory cortex osmFISH data (Codeluppi et al.) and compares it to the results from Baysor (Petukhov et al.) and SSAM (Park et al.).\n",
    "\n",
    "(Codeluppi et al.): Simone Codeluppi, Lars E. Borm, Amit Zeisel, Gioele La Manno, Josina A. van Lunteren, Camilla I. Svensson & Sten Linnarsson. Spatial organization of the somatosensory cortex revealed by osmFISH. Nat Methods 15, 932–935 (2018). https://doi.org/10.1038/s41592-018-0175-z\n",
    "\n",
    "(Petukhov et al.): Petukhov V, Xu RJ, Soldatov RA, Cadinu P, Khodosevich K, Moffitt JR & Kharchenko PV. Cell segmentation in imaging-based spatial transcriptomics. Nat Biotechnol 40, 345–354 (2022). https://doi.org/10.1038/s41587-021-01044-w\n",
    "\n",
    "(Park et al.): Jeongbin Park, Wonyl Choi, Sebastian Tiesmeyer, Brian Long, Lars E. Borm, Emma Garren, Thuc Nghi Nguyen, Bosiljka Tasic, Simone Codeluppi, Tobias Graf, Matthias Schlesner, Oliver Stegle, Roland Eils & Naveed Ishaque. Cell segmentation-free inference of cell types from in situ transcriptomics data. Nat Commun 12, 3545 (2021). https://doi.org/10.1038/s41467-021-23807-4"
   ]
  },
  {
   "cell_type": "code",
   "execution_count": null,
   "metadata": {},
   "outputs": [],
   "source": [
    "import os\n",
    "import sys\n",
    "import json\n",
    "import matplotlib\n",
    "\n",
    "import pandas as pd\n",
    "import numpy as np\n",
    "import anndata as ad\n",
    "import scanpy as sc\n",
    "import seaborn as sns\n",
    "import sklearn.metrics\n",
    "\n",
    "import tacco as tc\n",
    "\n",
    "# The notebook expects to be executed either in the workflow directory or in the repository root folder...\n",
    "sys.path.insert(1, os.path.abspath('workflow' if os.path.exists('workflow/common_code.py') else '..')) \n",
    "import common_code"
   ]
  },
  {
   "cell_type": "markdown",
   "metadata": {},
   "source": [
    "## Load data"
   ]
  },
  {
   "cell_type": "code",
   "execution_count": null,
   "metadata": {},
   "outputs": [],
   "source": [
    "data_path = common_code.find_path('results/osmFISH')"
   ]
  },
  {
   "cell_type": "code",
   "execution_count": null,
   "metadata": {},
   "outputs": [],
   "source": [
    "reference = ad.read(f'{data_path}/data/reference.h5ad')\n",
    "rna_coords = pd.read_csv(f'{data_path}/full_anno.csv.gz')\n",
    "rna_coords['ClusterName'] = rna_coords['ClusterName'].fillna('')"
   ]
  },
  {
   "cell_type": "markdown",
   "metadata": {},
   "source": [
    "## Plotting options"
   ]
  },
  {
   "cell_type": "code",
   "execution_count": null,
   "metadata": {},
   "outputs": [],
   "source": [
    "highres = False\n",
    "default_dpi = 100.0\n",
    "if highres:\n",
    "    matplotlib.rcParams['figure.dpi'] = 648.0\n",
    "    hr_ext = '_hd'\n",
    "else:\n",
    "    matplotlib.rcParams['figure.dpi'] = default_dpi\n",
    "    hr_ext = ''\n",
    "\n",
    "axsize = np.array([4,3])*0.5"
   ]
  },
  {
   "cell_type": "code",
   "execution_count": null,
   "metadata": {},
   "outputs": [],
   "source": [
    "color_dict = {'Inhibitory CP': '#982581',\n",
    "             'Inhibitory Crhbp': '#83469b',\n",
    "             'Inhibitory Cnr1':'#cb467c',\n",
    "             'Inhibitory IC': '#ee519f',\n",
    "             'Inhibitory Kcnip2': '#9681bd',\n",
    "             'Inhibitory Pthlh': '#533594',\n",
    "             'Inhibitory Vip':'#765aa6',\n",
    "\n",
    "             'Pyramidal Cpne5':'#3a449b',\n",
    "             'Pyramidal L2-3': '#10b6e7',\n",
    "             'Pyramidal L2-3 L5':'#1f6a89',\n",
    "             'Pyramidal Kcnip2':'#6988c4',\n",
    "             'Pyramidal L3-4': '#2255a6',\n",
    "             'pyramidal L4': '#8ad7ef',\n",
    "             'Pyramidal L5': '#18a0b5',\n",
    "             'Pyramidal L6':'#1980c4',\n",
    "             'Hippocampus': '#094d73',\n",
    "\n",
    "             'Astrocyte Gfap': '#dd4827',\n",
    "             'Astrocyte Mfge8': '#f5914b',\n",
    "\n",
    "             'Oligodendrocyte Precursor cells': '#b7d541',\n",
    "             'Oligodendrocyte COP': '#6dbe45',\n",
    "             'Oligodendrocyte NF': '#62a64e',\n",
    "             'Oligodendrocyte MF':'#2d744b',\n",
    "             'Oligodendrocyte Mature': '#27562b',\n",
    "\n",
    "             'Perivascular Macrophages':'#752b17',\n",
    "             'Microglia':'#a7633e',\n",
    "\n",
    "             'C. Plexus': '#21b284',\n",
    "             'Ependymal':'#f6e10b',\n",
    "\n",
    "             'Pericytes':'#fac696',\n",
    "             'Endothelial':'#ed2426',\n",
    "             'Endothelial 1':'#f05658',\n",
    "             'Vascular Smooth Muscle':'#adc471',\n",
    "             \n",
    "             '': '#D3D3D3'}"
   ]
  },
  {
   "cell_type": "markdown",
   "metadata": {},
   "source": [
    "## Analysis options"
   ]
  },
  {
   "cell_type": "code",
   "execution_count": null,
   "metadata": {},
   "outputs": [],
   "source": [
    "method_keys = ['tacco','baysor','ssam']\n",
    "method_props = pd.DataFrame({\n",
    "    'ClusterName': ['osmFISH-recovered cells','single molecule annotations from mapping back the published Watershed-segmentation based annotations', 'osmFISH-recovered cells',],\n",
    "    'tacco': ['TACCO', 'single molecule annotations without segmentation', 'TACCO sm annotation', ],\n",
    "    'baysor': ['Baysor', 'single molecule annotations without segmentation', 'Baysor sm annotation', ],\n",
    "    'ssam': ['SSAM', 'single molecule annotations from mapping back pixel-based annotations', 'SSAM sm annotation', ],\n",
    "}, index=['nice_name','description','title']).T"
   ]
  },
  {
   "cell_type": "markdown",
   "metadata": {},
   "source": [
    "## Spatial overview"
   ]
  },
  {
   "cell_type": "markdown",
   "metadata": {},
   "source": [
    "Plot the single-molecule annotations for different methods to get a general overview"
   ]
  },
  {
   "cell_type": "code",
   "execution_count": null,
   "metadata": {},
   "outputs": [],
   "source": [
    "fig = tc.pl.scatter(rna_coords, keys=['ClusterName', *method_keys], axsize=4e-3, joint=True, noticks=True, legend=False, colors=color_dict, point_size=1, method_labels=method_props['title']);"
   ]
  },
  {
   "cell_type": "markdown",
   "metadata": {},
   "source": [
    "Zoom in to see the single molecules"
   ]
  },
  {
   "cell_type": "code",
   "execution_count": null,
   "metadata": {
    "tags": [
     "nbsphinx-thumbnail"
    ]
   },
   "outputs": [],
   "source": [
    "xmin,xmax = 1150,1400\n",
    "ymin,ymax = 1000,1600 #1170,1690\n",
    "query = 'x > @xmin & x < @xmax & y > @ymin & y < @ymax'\n",
    "\n",
    "fig = tc.pl.scatter(rna_coords.query(query), keys=['ClusterName', *method_keys], axsize=2e-2, joint=True, noticks=True, legend=False, colors=color_dict, method_labels=method_props['title']);"
   ]
  },
  {
   "cell_type": "markdown",
   "metadata": {},
   "source": [
    "Plotting astrocyte markers"
   ]
  },
  {
   "cell_type": "code",
   "execution_count": null,
   "metadata": {},
   "outputs": [],
   "source": [
    "astro_gene_colors = { 'Gfap': '#dd4827', 'Mfge8': '#f5914b', 'Aldoc': '#DE7C5A', 'Serpinf1': '#280000' }\n",
    "astro_genes = list(astro_gene_colors.keys())\n",
    "\n",
    "genes = rna_coords['gene'].unique()\n",
    "gene_color_dict = {g:'#D3D3D3' for g in genes}\n",
    "for g,c in astro_gene_colors.items():\n",
    "    gene_color_dict[g] = c\n",
    "fig = tc.pl.scatter(rna_coords.query(query), keys='gene', colors=gene_color_dict, axsize=2e-2, joint=True);\n",
    "fig.get_axes()[0].set_title('Astrocyte marker genes')"
   ]
  },
  {
   "cell_type": "markdown",
   "metadata": {},
   "source": [
    "## Analysis on the cell-like level"
   ]
  },
  {
   "cell_type": "markdown",
   "metadata": {},
   "source": [
    "Process the segmented data using the recipe given in (Codeluppi et al.)"
   ]
  },
  {
   "cell_type": "code",
   "execution_count": null,
   "metadata": {},
   "outputs": [],
   "source": [
    "def prep_codeluppi(adata, min_counts=0):\n",
    "    adata = adata[tc.sum(adata.X,axis=1)>=min_counts]\n",
    "    adata = sc.AnnData(adata.X.astype(np.float32),obs=adata.obs,var=adata.var,obsm=adata.obsm)\n",
    "    sums0 = tc.sum(adata.X,axis=0)\n",
    "    sums1 = tc.sum(adata.X,axis=1)\n",
    "    tc.utils.col_scale(adata.X, 1/sums0)\n",
    "    tc.utils.row_scale(adata.X, 1/sums1)\n",
    "    adata.X *= np.prod(adata.X.shape)\n",
    "    sc.tl.tsne(adata)\n",
    "    return adata\n",
    "\n",
    "def construct_segmented_data(seg_col, ann_col):\n",
    "    count_data = tc.tl.dataframe2anndata(rna_coords, obs_key=seg_col, var_key='gene', compositional_keys=['ClusterName', *method_keys], mean_keys=['x','y'])\n",
    "    # by construction of the TACCO segmentation, only cells composed of molecules typed with a single type are reconstructed\n",
    "    # assert(((count_data.obsm[ann_col].to_numpy().flatten()==0)|(count_data.obsm[ann_col].to_numpy().flatten()==1)).all())\n",
    "    # for the Baysor segmentation this is not exactly the case\n",
    "    tc.utils.get_maximum_annotation(count_data, ann_col, ann_col)\n",
    "    del count_data.obsm[ann_col]\n",
    "    return count_data\n",
    "    \n",
    "segmented_min_counts = 20\n",
    "\n",
    "seg_props = pd.DataFrame([\n",
    "    [ 'TonT', 'TACCO segmentation\\non TACCO annotation', 'tacco_seg', 'tacco', 'TACCO segmentation', 'TACCO'],\n",
    "    [ 'TonB', 'TACCO segmentation\\non Baysor annotation', 'baysor_seg', 'baysor', 'TACCO segmentation', 'Baysor'],\n",
    "    [ 'TonS', 'TACCO segmentation\\non SSAM annotation', 'ssam_seg', 'ssam', 'TACCO segmentation', 'SSAM'],\n",
    "    [ 'BonB', 'Baysor segmentation\\non Baysor annotation', 'baysor_beg', 'baysor', 'Baysor segmentation', 'Baysor\\n[using Baysor segmentation]'],\n",
    "], columns=['key','nice_name','seg_col','ann_col','nice_seg','nice_ann']).set_index('key')\n",
    "seg_datas = { key: construct_segmented_data(seg_col, ann_col) for key,seg_col,ann_col in zip(seg_props.index,seg_props['seg_col'],seg_props['ann_col']) }\n",
    "\n",
    "norm_datas = { key: prep_codeluppi(seg_data, segmented_min_counts) for key,seg_data in seg_datas.items() }\n",
    "norm_datas['reference'] = prep_codeluppi(reference, segmented_min_counts)\n",
    "\n",
    "ext_seg_props = seg_props.copy()\n",
    "ext_seg_props.loc['reference'] = {'nice_name':'osmFISH-recovered cells','seg_col':'cell','ann_col':'ClusterName','nice_seg':'osmFISH-recovered cells','nice_ann':'osmFISH-recovered cells'}\n",
    "ext_seg_props = ext_seg_props.loc[[ext_seg_props.index[-1],*ext_seg_props.index[:-1],]]\n",
    "seg_datas['reference'] = reference"
   ]
  },
  {
   "cell_type": "markdown",
   "metadata": {},
   "source": [
    "Compare the TACCO segmentation to the watershed segmentation results from (Codeluppi et al.)"
   ]
  },
  {
   "cell_type": "code",
   "execution_count": null,
   "metadata": {},
   "outputs": [],
   "source": [
    "fig,axs = tc.pl.subplots(3, axsize=(1.9,1.9), x_padding=0.5)\n",
    "tc.pl.scatter(norm_datas['reference'],'ClusterName', position_key='X_tsne', colors=color_dict, joint=True, noticks=True, margin=0.1, axes_labels=['tSNE 0','tSNE 1'], ax=axs[0,0], legend=False, );\n",
    "tc.pl.scatter(norm_datas['TonT'],     'tacco',       position_key='X_tsne', colors=color_dict, joint=True, noticks=True, margin=0.1, axes_labels=['tSNE 0','tSNE 1'], ax=axs[0,1], legend=False, );\n",
    "tc.pl.scatter(norm_datas['TonT'],     'ClusterName', position_key='X_tsne', colors=color_dict, joint=True, noticks=True, margin=0.1, axes_labels=['tSNE 0','tSNE 1'], ax=axs[0,2], legend=True, );\n",
    "axs[0,0].set_title('osmFISH recovered cells')\n",
    "axs[0,1].set_title('TACCO segmentation')\n",
    "axs[0,2].set_title('with osmFISH annotation')"
   ]
  },
  {
   "cell_type": "markdown",
   "metadata": {},
   "source": [
    "Cross-comparison of annotations of different methods with combinations of segmentation methods and annotations used in the segmentation"
   ]
  },
  {
   "cell_type": "code",
   "execution_count": null,
   "metadata": {},
   "outputs": [],
   "source": [
    "fig,axs = tc.pl.subplots(len(method_keys),len(seg_props), axsize=(2.0,2.0), x_padding=0.5, y_padding=0.5)\n",
    "for i_data,key in enumerate(seg_props.index):\n",
    "    for j_method,method in enumerate(method_keys):\n",
    "        tc.pl.scatter(norm_datas[key],method,    position_key='X_tsne', colors=color_dict, joint=True, noticks=True, margin=0.1, axes_labels=['tSNE 0','tSNE 1'], ax=axs[i_data,j_method], legend=((i_data==0) and (j_method==len(method_keys)-1)), );\n",
    "        axs[i_data,j_method].set_title(f'{method_props.loc[method,\"nice_name\"]} annotation')\n",
    "    axs[i_data,0].text(-0.25, 0.5, seg_props.loc[key,\"nice_name\"], fontsize='large', rotation=90, horizontalalignment='center', verticalalignment='center', transform=axs[i_data,0].transAxes)"
   ]
  },
  {
   "cell_type": "code",
   "execution_count": null,
   "metadata": {},
   "outputs": [],
   "source": [
    "fig,axs = tc.pl.subplots(1,5, axsize=(8,2), y_padding=1.7)\n",
    "ax=axs[0,0]; tc.pl.compositions(seg_datas['TonT'], 'ClusterName', 'tacco',  colors=color_dict, reads=True, ax=ax);              ax.set_ylabel('reference composition'); ax.set_xlabel('TACCO annotation');\n",
    "ax=axs[1,0]; tc.pl.compositions(seg_datas['TonT'], 'baysor',      'tacco',  colors=color_dict, reads=True, ax=ax,legend=False); ax.set_ylabel('Baysor composition');    ax.set_xlabel('TACCO annotation');\n",
    "ax=axs[2,0]; tc.pl.compositions(seg_datas['TonT'], 'ssam',        'tacco',  colors=color_dict, reads=True, ax=ax,legend=False); ax.set_ylabel('SSAM composition');      ax.set_xlabel('TACCO annotation');\n",
    "ax=axs[3,0]; tc.pl.compositions(seg_datas['TonB'], 'tacco',       'baysor', colors=color_dict, reads=True, ax=ax,legend=False); ax.set_ylabel('TACCO composition');     ax.set_xlabel('Baysor annotation');\n",
    "ax=axs[4,0]; tc.pl.compositions(seg_datas['TonS'], 'tacco',       'ssam',   colors=color_dict, reads=True, ax=ax,legend=False); ax.set_ylabel('TACCO composition');     ax.set_xlabel('SSAM annotation');"
   ]
  },
  {
   "cell_type": "markdown",
   "metadata": {},
   "source": [
    "Find spatial layered structure using the TACCO segmented data"
   ]
  },
  {
   "cell_type": "code",
   "execution_count": null,
   "metadata": {},
   "outputs": [],
   "source": [
    "analysis_key=f'tacco-tacco'\n",
    "tc.tl.co_occurrence(seg_datas['TonT'], 'tacco', delta_distance=50, max_distance=2000, sparse=False, result_key=analysis_key);\n",
    "fig = tc.pl.co_occurrence(seg_datas['TonT'], analysis_key, score_key='composition', colors=color_dict, wspace=0.3, show_only_center=['Hippocampus'], legend=False, axsize=(2.6,1.7), grid=False);\n",
    "# annotate selected peaks in the data\n",
    "ax = fig.get_axes()[0]\n",
    "selection = pd.DataFrame({'anno':['Hippocampus','Oligodendrocyte Mature','Pyramidal L2-3','Pyramidal L2-3 L5','Pyramidal L3-4','pyramidal L4','Pyramidal L6']})\n",
    "all_annotations = seg_datas['TonT'].uns[analysis_key]['annotation']\n",
    "selection['anno_idx'] = selection['anno'].map(lambda x: np.argmax(all_annotations == x))\n",
    "lines = ax.get_lines()\n",
    "selection['y'] = selection['anno_idx'].map(lambda x: lines[x].get_ydata()[np.argmax(lines[x].get_ydata())])\n",
    "selection['x'] = selection['anno_idx'].map(lambda x: lines[x].get_xdata()[np.argmax(lines[x].get_ydata())])\n",
    "selection.sort_values('x', inplace=True)\n",
    "\n",
    "for i,row in enumerate(selection.itertuples()):\n",
    "    arrowprops = dict(arrowstyle=\"->\",connectionstyle=\"arc\", relpos=(0., 0.5))\n",
    "    ax.annotate(row.anno,\n",
    "            xy=(row.x, row.y), xycoords='data', ha=\"left\", va=\"center\", fontsize='x-small',\n",
    "            xytext=(row.x + (200 if i==0 else 0), selection['y'].max()-0.21*i/len(selection)), textcoords='data',\n",
    "            arrowprops=arrowprops,\n",
    "            )\n",
    "            \n",
    "ax.set_title(f'TACCO')\n",
    "ax.set_ylabel(f'$p(anno|center)$')\n",
    "ax.set_xlabel(f'Distance from Hippocampus (µm)')"
   ]
  },
  {
   "cell_type": "code",
   "execution_count": null,
   "metadata": {},
   "outputs": [],
   "source": [
    "reference.obs['x'] = reference.obs['X'] * reference.uns['um_per_pixel']\n",
    "reference.obs['y'] = reference.obs['Y'] * reference.uns['um_per_pixel']"
   ]
  },
  {
   "cell_type": "code",
   "execution_count": null,
   "metadata": {},
   "outputs": [],
   "source": [
    "for method,seg,nice_ann in zip(ext_seg_props['ann_col'],ext_seg_props.index,ext_seg_props['nice_ann']):\n",
    "    analysis_key=f'{method}-Hippocampus'\n",
    "    filtered = seg_datas[seg][tc.sum(seg_datas[seg].X,axis=1) > segmented_min_counts].copy()\n",
    "    tc.tl.co_occurrence(filtered, method, center_key='ClusterName', delta_distance=50, max_distance=2000, sparse=False, result_key=analysis_key);\n",
    "    fig = tc.pl.co_occurrence(filtered, analysis_key, score_key='composition', colors=color_dict, wspace=0.3, show_only_center=['Hippocampus'], legend=False, axsize=(2.6,1.7), grid=False);\n",
    "    fig.get_axes()[0].set_ylim([-0.02,0.48])\n",
    "    fig.get_axes()[0].set_title(nice_ann)\n",
    "    fig.get_axes()[0].set_ylabel(f'$p(anno|center)$')\n",
    "    fig.get_axes()[0].set_xlabel(f'Distance from Hippocampus (µm)')"
   ]
  },
  {
   "cell_type": "markdown",
   "metadata": {},
   "source": [
    "## Get an impression of the stability of TACCO's single molecule annotation wrt changes in its configuration"
   ]
  },
  {
   "cell_type": "code",
   "execution_count": null,
   "metadata": {},
   "outputs": [],
   "source": [
    "mod_props = pd.DataFrame([\n",
    "    [ 'tacco', 'base', 'base', 'base', ],\n",
    "    [ 'tacco_pla0', 'pla0', 'w/ platform normalization', 'platform normalization', ],\n",
    "    [ 'tacco_bisWO', 'bisWO', 'w/o bisection', 'bisection', ],\n",
    "    [ 'tacco_bis22', 'bis22', 'w/ bisection(2,2)', 'bisection', ],\n",
    "    [ 'tacco_bis24', 'bis24', 'w/ bisection(2,4)', 'bisection', ],\n",
    "    [ 'tacco_bis82', 'bis82', 'w/ bisection(8,2)', 'bisection', ],\n",
    "    [ 'tacco_bis84', 'bis84', 'w/ bisection(8,4)', 'bisection', ],\n",
    "    [ 'tacco_mul5', 'mul5', 'w/ multi_center(5)', 'multi_center', ],\n",
    "    [ 'tacco_mul10', 'mul10', 'w/ multi_center(10)', 'multi_center', ],\n",
    "    [ 'tacco_mul20', 'mul20', 'w/ multi_center(20)', 'multi_center', ],\n",
    "    [ 'tacco_eps05', 'eps05', 'w/ epsilon(0.5)', 'epsilon', ],\n",
    "    [ 'tacco_eps005', 'eps005', 'w/ epsilon(0.05)', 'epsilon', ],\n",
    "    [ 'tacco_lam1', 'lam1', 'w/ lambda(1.0)', 'lambda', ],\n",
    "    [ 'tacco_lam001', 'lam001', 'w/ lambda(0.01)', 'lambda', ],\n",
    "    [ 'tacco_bin5', 'bin5', 'w/ bin_size(5)', 'bin_size', ],\n",
    "    [ 'tacco_bin20', 'bin20', 'w/ bin_size(20)', 'bin_size', ],\n",
    "    [ 'tacco_nsh2', 'nsh2', 'w/ n_shifts(2)', 'n_shifts', ],\n",
    "    [ 'tacco_nsh4', 'nsh4', 'w/ n_shifts(4)', 'n_shifts', ],\n",
    "], columns=['key','mod','nice','group']).set_index('key')\n",
    "\n",
    "comps = pd.DataFrame(index=mod_props.index)\n",
    "for key in mod_props.index:\n",
    "    comps[key] = [(rna_coords[key] == rna_coords[key2]).mean() for key2 in mod_props.index]\n",
    "\n",
    "sub = rna_coords[rna_coords['ClusterName']!='']\n",
    "accuracy = {key2: (sub[f'ClusterName'] == sub[key2]).mean() for key2 in mod_props.index}\n",
    "\n",
    "plot_df = comps.iloc[:,[0]].copy().rename(columns={'tacco':'annotation stability'})\n",
    "plot_df['group'] = plot_df.index.map(mod_props['group'])\n",
    "plot_df['consistency with osmFISH annotation'] = plot_df.index.map(accuracy)\n",
    "plot_df.index = comps.index.map(mod_props['nice'])\n",
    "plot_df.index.name = 'modification'\n",
    "plot_df = plot_df.reset_index()\n",
    "\n",
    "fig,axs = tc.pl.subplots(1,2, axsize=(5,2), sharex=True, y_padding=0.25)\n",
    "sns.barplot(data=plot_df, x='modification', y='consistency with osmFISH annotation', hue='group', dodge=False, ax=axs[0,0])\n",
    "axs[0,0].set_xlabel(None);\n",
    "axs[0,0].legend(bbox_to_anchor=(1, 1), loc='upper left')\n",
    "sns.barplot(data=plot_df, x='modification', y='annotation stability', hue='group', dodge=False, ax=axs[1,0])\n",
    "axs[1,0].set_xticklabels(axs[1,0].get_xticklabels(), rotation=45, ha='right', );\n",
    "axs[1,0].get_legend().remove()"
   ]
  }
 ],
 "metadata": {
  "language_info": {
   "codemirror_mode": {
    "name": "ipython",
    "version": 3
   },
   "file_extension": ".py",
   "mimetype": "text/x-python",
   "name": "python",
   "nbconvert_exporter": "python",
   "pygments_lexer": "ipython3",
   "version": "3.10.6"
  }
 },
 "nbformat": 4,
 "nbformat_minor": 4
}
