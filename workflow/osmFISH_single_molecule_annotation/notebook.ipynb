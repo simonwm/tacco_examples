{
 "cells": [
  {
   "cell_type": "markdown",
   "metadata": {},
   "source": [
    "# Single molecule data: osmFISH mouse somato-sensory cortex"
   ]
  },
  {
   "cell_type": "markdown",
   "metadata": {},
   "source": [
    "This example uses TACCO to annotate and analyse mouse somato-sensory cortex osmFISH data (Codeluppi et al.).\n",
    "\n",
    "(Codeluppi et al.): Simone Codeluppi, Lars E. Borm, Amit Zeisel, Gioele La Manno, Josina A. van Lunteren, Camilla I. Svensson & Sten Linnarsson. Spatial organization of the somatosensory cortex revealed by osmFISH. Nat Methods 15, 932–935 (2018). https://doi.org/10.1038/s41592-018-0175-z"
   ]
  },
  {
   "cell_type": "code",
   "execution_count": null,
   "metadata": {},
   "outputs": [],
   "source": [
    "import os\n",
    "import sys\n",
    "import json\n",
    "\n",
    "import pandas as pd\n",
    "import numpy as np\n",
    "import anndata as ad\n",
    "import scanpy as sc\n",
    "\n",
    "import tacco as tc\n",
    "\n",
    "import matplotlib\n",
    "\n",
    "import seaborn as sns\n",
    "\n",
    "# The notebook expects to be executed either in the workflow directory or in the repository root folder...\n",
    "sys.path.insert(1, os.path.abspath('workflow' if os.path.exists('workflow/common_code.py') else '..')) \n",
    "import common_code"
   ]
  },
  {
   "cell_type": "markdown",
   "metadata": {},
   "source": [
    "## Load data"
   ]
  },
  {
   "cell_type": "code",
   "execution_count": null,
   "metadata": {},
   "outputs": [],
   "source": [
    "data_path = common_code.find_path('results/osmFISH')"
   ]
  },
  {
   "cell_type": "code",
   "execution_count": null,
   "metadata": {},
   "outputs": [],
   "source": [
    "# load segmented data\n",
    "reference = ad.read(f'{data_path}/data/reference.h5ad')\n",
    "# load single molecule data\n",
    "rna_coords = pd.read_csv(f'{data_path}/data/rna_coords.csv.gz')\n",
    "rna_coords['ClusterName'] = rna_coords['ClusterName'].fillna('')"
   ]
  },
  {
   "cell_type": "markdown",
   "metadata": {},
   "source": [
    "## Plotting options"
   ]
  },
  {
   "cell_type": "code",
   "execution_count": null,
   "metadata": {},
   "outputs": [],
   "source": [
    "highres = False\n",
    "default_dpi = 100.0 # matplotlib.rcParams['figure.dpi']\n",
    "if highres:\n",
    "    matplotlib.rcParams['figure.dpi'] = 648.0\n",
    "    hr_ext = '_hd'\n",
    "else:\n",
    "    matplotlib.rcParams['figure.dpi'] = default_dpi\n",
    "    hr_ext = ''\n",
    "\n",
    "axsize = np.array([4,3])*0.5"
   ]
  },
  {
   "cell_type": "code",
   "execution_count": null,
   "metadata": {},
   "outputs": [],
   "source": [
    "color_dict = {'Inhibitory CP': '#982581',\n",
    "             'Inhibitory Crhbp': '#83469b',\n",
    "             'Inhibitory Cnr1':'#cb467c',\n",
    "             'Inhibitory IC': '#ee519f',\n",
    "             'Inhibitory Kcnip2': '#9681bd',\n",
    "             'Inhibitory Pthlh': '#533594',\n",
    "             'Inhibitory Vip':'#765aa6',\n",
    "\n",
    "             'Pyramidal Cpne5':'#3a449b',\n",
    "             'Pyramidal L2-3': '#10b6e7',\n",
    "             'Pyramidal L2-3 L5':'#1f6a89',\n",
    "             'Pyramidal Kcnip2':'#6988c4',\n",
    "             'Pyramidal L3-4': '#2255a6',\n",
    "             'pyramidal L4': '#8ad7ef',\n",
    "             'Pyramidal L5': '#18a0b5',\n",
    "             'Pyramidal L6':'#1980c4',\n",
    "             'Hippocampus': '#094d73',\n",
    "\n",
    "             'Astrocyte Gfap': '#dd4827',\n",
    "             'Astrocyte Mfge8': '#f5914b',\n",
    "\n",
    "             'Oligodendrocyte Precursor cells': '#b7d541',\n",
    "             'Oligodendrocyte COP': '#6dbe45',\n",
    "             'Oligodendrocyte NF': '#62a64e',\n",
    "             'Oligodendrocyte MF':'#2d744b',\n",
    "             'Oligodendrocyte Mature': '#27562b',\n",
    "\n",
    "             'Perivascular Macrophages':'#752b17',\n",
    "             'Microglia':'#a7633e',\n",
    "\n",
    "             'C. Plexus': '#21b284',\n",
    "             'Ependymal':'#f6e10b',\n",
    "\n",
    "             'Pericytes':'#fac696',\n",
    "             'Endothelial':'#ed2426',\n",
    "             'Endothelial 1':'#f05658',\n",
    "             'Vascular Smooth Muscle':'#adc471',\n",
    "             \n",
    "             '': '#D3D3D3'}"
   ]
  },
  {
   "cell_type": "code",
   "execution_count": null,
   "metadata": {},
   "outputs": [],
   "source": [
    "method_props = pd.DataFrame({\n",
    "    'ClusterName': ['osmFISH-recovered cells','single molecule annotations from mapping back the published Watershed-segmentation based annotations', 'osmFISH-recovered cells',],\n",
    "    'tacco': ['TACCO', 'single molecule annotations without segmentation', 'TACCO sm annotation', ],\n",
    "}, index=['nice_name','description','title']).T"
   ]
  },
  {
   "cell_type": "markdown",
   "metadata": {},
   "source": [
    "## Run single molecule annotation"
   ]
  },
  {
   "cell_type": "code",
   "execution_count": null,
   "metadata": {},
   "outputs": [],
   "source": [
    "anno_col = 'tacco'\n",
    "annotation_parameters = { 'bin_size': 10, 'n_shifts': 3, 'platform_iterations': -1, }\n",
    "tc.tl.annotate_single_molecules(rna_coords, reference=reference, method='OT', annotation_key='ClusterName', result_key=anno_col,\n",
    "                                bin_size=10, # positions are in µm and we expect features at around 10µm, i.e. cells\n",
    "                                n_shifts=3, # compromise between speed (lower values) and artefact reduction (higher values)\n",
    "                                platform_iterations=-1, # no platform normalization is necessary as data and reference share identical platform effects\n",
    "                               )"
   ]
  },
  {
   "cell_type": "markdown",
   "metadata": {},
   "source": [
    "## Spatial overview"
   ]
  },
  {
   "cell_type": "markdown",
   "metadata": {},
   "source": [
    "Plot the single-molecule annotations for the reference and TACCO"
   ]
  },
  {
   "cell_type": "code",
   "execution_count": null,
   "metadata": {},
   "outputs": [],
   "source": [
    "fig = tc.pl.scatter(rna_coords, keys=['ClusterName', anno_col], axsize=4e-3, joint=True, noticks=True, legend=True, colors=color_dict, point_size=1, method_labels=method_props['title']);\n",
    "fig.savefig(f'{data_path}/single_molecule_full{hr_ext}.pdf',bbox_inches='tight')"
   ]
  },
  {
   "cell_type": "markdown",
   "metadata": {},
   "source": [
    "Zoom in to see the single molecules"
   ]
  },
  {
   "cell_type": "code",
   "execution_count": null,
   "metadata": {
    "tags": [
     "nbsphinx-thumbnail"
    ]
   },
   "outputs": [],
   "source": [
    "xmin,xmax = 1150,1400\n",
    "ymin,ymax = 1000,1600 #1170,1690\n",
    "query = 'x > @xmin & x < @xmax & y > @ymin & y < @ymax'\n",
    "\n",
    "fig = tc.pl.scatter(rna_coords.query(query), keys=['ClusterName', anno_col], axsize=2e-2, joint=True, noticks=True, legend=True, colors=color_dict, method_labels=method_props['title']);\n",
    "fig.savefig(f'{data_path}/single_molecule_sub{hr_ext}.pdf',bbox_inches='tight')"
   ]
  },
  {
   "cell_type": "markdown",
   "metadata": {},
   "source": [
    "Plotting astrocyte markers"
   ]
  },
  {
   "cell_type": "code",
   "execution_count": null,
   "metadata": {},
   "outputs": [],
   "source": [
    "astro_gene_colors = { 'Gfap': '#dd4827', 'Mfge8': '#f5914b', 'Aldoc': '#DE7C5A', 'Serpinf1': '#280000' }\n",
    "astro_genes = list(astro_gene_colors.keys())\n",
    "\n",
    "genes = rna_coords['gene'].unique()\n",
    "gene_color_dict = {g:'#D3D3D3' for g in genes}\n",
    "for g,c in astro_gene_colors.items():\n",
    "    gene_color_dict[g] = c\n",
    "fig = tc.pl.scatter(rna_coords.query(query), keys='gene', colors=gene_color_dict, axsize=2e-2, joint=True);\n",
    "fig.get_axes()[0].set_title('Astrocyte marker genes')\n",
    "fig.savefig(f'{data_path}/single_molecule_ast{hr_ext}.pdf',bbox_inches='tight')"
   ]
  },
  {
   "cell_type": "markdown",
   "metadata": {},
   "source": [
    "## Run single molecule segmentation"
   ]
  },
  {
   "cell_type": "code",
   "execution_count": null,
   "metadata": {},
   "outputs": [],
   "source": [
    "seg_col = f'{anno_col}_seg'\n",
    "tc.tl.segment(rna_coords, result_key=seg_col,\n",
    "              distance_scale=2.0, # The size of a molecular neighborhood of 2µm - should be smaller than a cell, but large enough to have a few molecules in it.\n",
    "              max_size=1600, # Maximum size of a \"cell\"\n",
    "              position_scale=10.0, # The expected feature size to use for splitting the problem spatially: cells are expected to be about 10µm large.\n",
    "              position_range=2, # Relative size range for objects wrt. postion_scale in the clustering\n",
    "              annotation_key=anno_col, annotation_distance=None, # Do not connect nearby molecules with different annotation in the same \"cell\"\n",
    "             )"
   ]
  },
  {
   "cell_type": "markdown",
   "metadata": {},
   "source": [
    "## Analysis on the cell-like level"
   ]
  },
  {
   "cell_type": "markdown",
   "metadata": {},
   "source": [
    "Process the segmented data using the recipe given in (Codeluppi et al.)"
   ]
  },
  {
   "cell_type": "code",
   "execution_count": null,
   "metadata": {},
   "outputs": [],
   "source": [
    "def prep_codeluppi(adata, min_counts=0):\n",
    "    adata = adata[tc.sum(adata.X,axis=1)>=min_counts]\n",
    "    adata = sc.AnnData(adata.X.astype(np.float32),obs=adata.obs,var=adata.var,obsm=adata.obsm)\n",
    "    sums0 = tc.sum(adata.X,axis=0)\n",
    "    sums1 = tc.sum(adata.X,axis=1)\n",
    "    tc.utils.col_scale(adata.X, 1/sums0)\n",
    "    tc.utils.row_scale(adata.X, 1/sums1)\n",
    "    adata.X *= np.prod(adata.X.shape)\n",
    "    sc.tl.tsne(adata)\n",
    "    return adata\n",
    "def construct_segmented_data(seg_col, ann_col):\n",
    "    count_data = tc.tl.dataframe2anndata(rna_coords, obs_key=seg_col, var_key='gene', compositional_keys=['ClusterName', anno_col], mean_keys=['x','y'])\n",
    "    # by construction of the TACCO segmentation, only cells composed of molecules typed with a single type are reconstructed\n",
    "    tc.utils.get_maximum_annotation(count_data, ann_col, ann_col)\n",
    "    del count_data.obsm[ann_col]\n",
    "    return count_data\n",
    "segmented_min_counts = 20\n",
    "\n",
    "seg_props = pd.DataFrame([\n",
    "    [ 'TonT', 'TACCO segmentation\\non TACCO annotation', seg_col, anno_col, 'TACCO segmentation', 'TACCO'],\n",
    "], columns=['key','nice_name','seg_col','ann_col','nice_seg','nice_ann']).set_index('key')\n",
    "seg_datas = { key: construct_segmented_data(seg_col, ann_col) for key,seg_col,ann_col in zip(seg_props.index,seg_props['seg_col'],seg_props['ann_col']) }\n",
    "\n",
    "norm_datas = { key: prep_codeluppi(seg_data, segmented_min_counts) for key,seg_data in seg_datas.items() }\n",
    "norm_datas['reference'] = prep_codeluppi(reference, segmented_min_counts)\n",
    "\n",
    "ext_seg_props = seg_props.copy()\n",
    "ext_seg_props.loc['reference'] = {'nice_name':'osmFISH-recovered cells','seg_col':'cell','ann_col':'ClusterName','nice_seg':'osmFISH-recovered cells','nice_ann':'osmFISH-recovered cells'}\n",
    "ext_seg_props = ext_seg_props.loc[[ext_seg_props.index[-1],*ext_seg_props.index[:-1],]]\n",
    "seg_datas['reference'] = reference"
   ]
  },
  {
   "cell_type": "markdown",
   "metadata": {},
   "source": [
    "Compare the TACCO segmentation to the watershed segmentation results from (Codeluppi et al.)"
   ]
  },
  {
   "cell_type": "code",
   "execution_count": null,
   "metadata": {},
   "outputs": [],
   "source": [
    "fig,axs = tc.pl.subplots(3, axsize=(1.9,1.9), x_padding=0.5)\n",
    "tc.pl.scatter(norm_datas['reference'],'ClusterName', position_key='X_tsne', colors=color_dict, joint=True, noticks=True, margin=0.1, axes_labels=['tSNE 0','tSNE 1'], ax=axs[0,0], legend=False, );\n",
    "tc.pl.scatter(norm_datas['TonT'],     anno_col,      position_key='X_tsne', colors=color_dict, joint=True, noticks=True, margin=0.1, axes_labels=['tSNE 0','tSNE 1'], ax=axs[0,1], legend=False, );\n",
    "tc.pl.scatter(norm_datas['TonT'],     'ClusterName', position_key='X_tsne', colors=color_dict, joint=True, noticks=True, margin=0.1, axes_labels=['tSNE 0','tSNE 1'], ax=axs[0,2], legend=True, );\n",
    "axs[0,0].set_title('osmFISH recovered cells')\n",
    "axs[0,1].set_title('TACCO segmentation')\n",
    "axs[0,2].set_title('with osmFISH annotation')\n",
    "fig.savefig(f'{data_path}/single_molecule_tsne{hr_ext}.pdf',bbox_inches='tight')"
   ]
  },
  {
   "cell_type": "markdown",
   "metadata": {},
   "source": [
    "Cross-comparison of annotations of different methods with combinations of segmentation methods and annotations used in the segmentation"
   ]
  },
  {
   "cell_type": "code",
   "execution_count": null,
   "metadata": {},
   "outputs": [],
   "source": [
    "fig = tc.pl.compositions(seg_datas['TonT'], 'ClusterName', anno_col, colors=color_dict, reads=True, axsize=(10,3));\n",
    "ax = fig.axes[0]\n",
    "ax.set_ylabel('reference composition')\n",
    "ax.set_xlabel('TACCO annotation')\n",
    "fig.savefig(f'{data_path}/single_molecule_compositions.pdf',bbox_inches='tight')"
   ]
  },
  {
   "cell_type": "markdown",
   "metadata": {},
   "source": [
    "Find spatial layered structure using the TACCO segmented data"
   ]
  },
  {
   "cell_type": "code",
   "execution_count": null,
   "metadata": {},
   "outputs": [],
   "source": [
    "analysis_key=f'{anno_col}-{anno_col}'\n",
    "tc.tl.co_occurrence(seg_datas['TonT'], anno_col, delta_distance=50, max_distance=2000, sparse=False, result_key=analysis_key);\n",
    "fig = tc.pl.co_occurrence(seg_datas['TonT'], analysis_key, score_key='composition', colors=color_dict, wspace=0.3, show_only_center=['Hippocampus'], legend=False, axsize=(2.6,1.7), grid=False);\n",
    "# annotate selected peaks in the data\n",
    "ax = fig.get_axes()[0]\n",
    "selection = pd.DataFrame({'anno':['Hippocampus','Oligodendrocyte Mature','Pyramidal L2-3','Pyramidal L2-3 L5','Pyramidal L3-4','pyramidal L4','Pyramidal L6']})\n",
    "all_annotations = seg_datas['TonT'].uns[analysis_key]['annotation']\n",
    "selection['anno_idx'] = selection['anno'].map(lambda x: np.argmax(all_annotations == x))\n",
    "lines = ax.get_lines()\n",
    "selection['y'] = selection['anno_idx'].map(lambda x: lines[x].get_ydata()[np.argmax(lines[x].get_ydata())])\n",
    "selection['x'] = selection['anno_idx'].map(lambda x: lines[x].get_xdata()[np.argmax(lines[x].get_ydata())])\n",
    "selection.sort_values('x', inplace=True)\n",
    "for i,row in enumerate(selection.itertuples()):\n",
    "    arrowprops = dict(arrowstyle=\"->\",connectionstyle=\"arc\", relpos=(0., 0.5))\n",
    "    ax.annotate(row.anno,\n",
    "            xy=(row.x, row.y), xycoords='data', ha=\"left\", va=\"center\", fontsize='x-small',\n",
    "            xytext=(row.x + (200 if i==0 else 0), selection['y'].max()-0.21*i/len(selection)), textcoords='data',\n",
    "            arrowprops=arrowprops,\n",
    "            )\n",
    "ax.set_title(f'TACCO')\n",
    "ax.set_ylabel(f'$p(anno|center)$')\n",
    "ax.set_xlabel(f'Distance from Hippocampus (µm)')\n",
    "fig.savefig(f'{data_path}/single_molecule_layer{hr_ext}.pdf',bbox_inches='tight')"
   ]
  },
  {
   "cell_type": "code",
   "execution_count": null,
   "metadata": {},
   "outputs": [],
   "source": []
  }
 ],
 "metadata": {
  "kernelspec": {
   "display_name": "Python 3",
   "language": "python",
   "name": "python3"
  },
  "language_info": {
   "codemirror_mode": {
    "name": "ipython",
    "version": 3
   },
   "file_extension": ".py",
   "mimetype": "text/x-python",
   "name": "python",
   "nbconvert_exporter": "python",
   "pygments_lexer": "ipython3",
   "version": "3.8.3"
  }
 },
 "nbformat": 4,
 "nbformat_minor": 4
}
