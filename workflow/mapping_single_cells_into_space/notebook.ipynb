{
 "cells": [
  {
   "cell_type": "markdown",
   "metadata": {},
   "source": [
    "# Mapping single cells into space"
   ]
  },
  {
   "cell_type": "markdown",
   "metadata": {},
   "source": [
    "This example uses TACCO to annotate both mouse olfactory bulb Slide-Seq data (Wang et al.) with mouse olfactory bulb scRNA-seq data (Tepe et al.) and also to assign sptial positions to the scRNA-seq data using the Slide-Seq data.\n",
    "\n",
    "(Wang et al.): Wang IH, Murray E, Andrews G, Jiang HC et al. Spatial transcriptomic reconstruction of the mouse olfactory glomerular map suggests principles of odor processing. Nat Neurosci 2022 Apr;25(4):484-492. PMID: 35314823\n",
    "\n",
    "(Tepe et al.): Tepe B, Hill MC, Pekarek BT, Hunt PJ et al. Single-Cell RNA-Seq of Mouse Olfactory Bulb Reveals Cellular Heterogeneity and Activity-Dependent Molecular Census of Adult-Born Neurons. Cell Rep 2018 Dec 4;25(10):2689-2703.e3. PMID: 30517858"
   ]
  },
  {
   "cell_type": "code",
   "execution_count": null,
   "metadata": {},
   "outputs": [],
   "source": [
    "import os\n",
    "import sys\n",
    "\n",
    "import pandas as pd\n",
    "import numpy as np\n",
    "import anndata as ad\n",
    "\n",
    "import tacco as tc\n",
    "\n",
    "# The notebook expects to be executed either in the workflow directory or in the repository root folder...\n",
    "sys.path.insert(1, os.path.abspath('workflow' if os.path.exists('workflow/common_code.py') else '..')) \n",
    "import common_code"
   ]
  },
  {
   "cell_type": "markdown",
   "metadata": {},
   "source": [
    "## Load data"
   ]
  },
  {
   "cell_type": "code",
   "execution_count": null,
   "metadata": {},
   "outputs": [],
   "source": [
    "data_path = common_code.find_path('results/slideseq_mouse_olfactory_bulb')\n",
    "results_path = os.path.join(common_code.find_path('results'), 'mapping_single_cells_into_space')\n",
    "os.makedirs(results_path, exist_ok=True)"
   ]
  },
  {
   "cell_type": "code",
   "execution_count": null,
   "metadata": {},
   "outputs": [],
   "source": [
    "reference = ad.read(f'{data_path}/reference.h5ad')"
   ]
  },
  {
   "cell_type": "code",
   "execution_count": null,
   "metadata": {},
   "outputs": [],
   "source": [
    "puck = ad.read(f'{data_path}/puck_1_5.h5ad')"
   ]
  },
  {
   "cell_type": "markdown",
   "metadata": {},
   "source": [
    "## Annotate the spatial data with compositions of cell types"
   ]
  },
  {
   "cell_type": "markdown",
   "metadata": {},
   "source": [
    "Annotation is done on cluster level to capture variation within a cell type..."
   ]
  },
  {
   "cell_type": "code",
   "execution_count": null,
   "metadata": {},
   "outputs": [],
   "source": [
    "tc.tl.annotate(puck,reference,'ClusterName',result_key='ClusterName',)"
   ]
  },
  {
   "cell_type": "markdown",
   "metadata": {},
   "source": [
    "... and then aggregated to cell type level for visualization"
   ]
  },
  {
   "cell_type": "code",
   "execution_count": null,
   "metadata": {},
   "outputs": [],
   "source": [
    "cluster2type = reference.obs[['ClusterName','type']].drop_duplicates().groupby('type')['ClusterName'].agg(lambda x: list(x.to_numpy()))\n",
    "type2long = reference.obs[['type','long']].drop_duplicates().groupby('long')['type'].agg(lambda x: list(x.to_numpy()))"
   ]
  },
  {
   "cell_type": "code",
   "execution_count": null,
   "metadata": {},
   "outputs": [],
   "source": [
    "tc.utils.merge_annotation(puck, 'ClusterName', cluster2type, 'type');\n",
    "tc.utils.merge_annotation(puck, 'type', type2long, 'long');"
   ]
  },
  {
   "cell_type": "markdown",
   "metadata": {},
   "source": [
    "## Annotate the spatial data with compositions of individual cells"
   ]
  },
  {
   "cell_type": "markdown",
   "metadata": {},
   "source": [
    "Annotation is done on single cell level to map individual cells into space"
   ]
  },
  {
   "cell_type": "code",
   "execution_count": null,
   "metadata": {},
   "outputs": [],
   "source": [
    "reference.obs['cell'] = reference.obs.index"
   ]
  },
  {
   "cell_type": "code",
   "execution_count": null,
   "metadata": {},
   "outputs": [],
   "source": [
    "reference.varm['cell'] = pd.DataFrame(reference.X.T.A.astype(np.float32), index=reference.var.index, columns=reference.obs.index)"
   ]
  },
  {
   "cell_type": "code",
   "execution_count": null,
   "metadata": {},
   "outputs": [],
   "source": [
    "tc.tl.annotate(puck,reference,'cell',result_key='cell',multi_center=None,)"
   ]
  },
  {
   "cell_type": "markdown",
   "metadata": {},
   "source": [
    "... and then aggregated to cell type level for visualization"
   ]
  },
  {
   "cell_type": "code",
   "execution_count": null,
   "metadata": {},
   "outputs": [],
   "source": [
    "cell2cluster = reference.obs[['cell','ClusterName']].drop_duplicates().groupby('ClusterName')['cell'].agg(lambda x: list(x.to_numpy()))"
   ]
  },
  {
   "cell_type": "code",
   "execution_count": null,
   "metadata": {},
   "outputs": [],
   "source": [
    "tc.utils.merge_annotation(puck, 'cell', cell2cluster, 'cell_ClusterName');\n",
    "tc.utils.merge_annotation(puck, 'cell_ClusterName', cluster2type, 'cell_type');\n",
    "tc.utils.merge_annotation(puck, 'cell_type', type2long, 'cell_long');"
   ]
  },
  {
   "cell_type": "code",
   "execution_count": null,
   "metadata": {},
   "outputs": [],
   "source": [
    "# use consistent cell type order\n",
    "puck.obsm['cell_ClusterName'] = puck.obsm['cell_ClusterName'][puck.obsm['ClusterName'].columns]\n",
    "puck.obsm['cell_type'] = puck.obsm['cell_type'][puck.obsm['type'].columns]"
   ]
  },
  {
   "cell_type": "markdown",
   "metadata": {},
   "source": [
    "Define position annotation of single cells in the reference via the bead with the maximum annotation in the cell-wise bead annotation"
   ]
  },
  {
   "cell_type": "code",
   "execution_count": null,
   "metadata": {},
   "outputs": [],
   "source": [
    "reference.obsm['bead'] = puck.obsm['cell'].T"
   ]
  },
  {
   "cell_type": "code",
   "execution_count": null,
   "metadata": {},
   "outputs": [],
   "source": [
    "tc.utils.get_maximum_annotation(reference, 'bead', result_key='max_bead')"
   ]
  },
  {
   "cell_type": "code",
   "execution_count": null,
   "metadata": {},
   "outputs": [],
   "source": [
    "for coord in ['x','y']:\n",
    "    reference.obs[coord] = puck.obs[coord][reference.obs['max_bead']].to_numpy()"
   ]
  },
  {
   "cell_type": "code",
   "execution_count": null,
   "metadata": {
    "tags": [
     "nbsphinx-thumbnail"
    ]
   },
   "outputs": [],
   "source": [
    "fig, axs = tc.pl.subplots(3,13)\n",
    "tc.pl.scatter({'SlideSeq beads': puck}, ['type','cell_type'], ax=axs[:1,:2], legend=False, method_labels={'type':'type based annotation', 'cell_type':'single cell based annotation'});\n",
    "tc.pl.scatter({'SlideSeq beads': puck}, ['type','cell_type'], ax=axs[1:,:2], legend=False, method_labels={'type':'type based annotation', 'cell_type':'single cell based annotation'}, joint=False, cmap='viridis');\n",
    "tc.pl.scatter({'single cells': reference}, 'type', ax=axs[:1,2:], legend=True, method_labels={'type':'position annotation'});\n",
    "tc.pl.scatter({'single cells': reference}, 'type', ax=axs[1:,2:], legend=True, method_labels={'type':'position annotation'}, joint=False, cmap='viridis', normalize=True);"
   ]
  },
  {
   "cell_type": "markdown",
   "metadata": {},
   "source": [
    "While this shows the correspondence and annotations on single cell level and on cell type (or cluster) level, using the single-cell annotation of the spatial measurements just to get some higher level annotation like cell types is strongly discouraged: the direct annotation of the beads with the annotation of interest is much more efficient as the computational effort roughly scales with the number of annotation categories.\n",
    "As defining the position of single cells from the maximum weighted spatial observation introduces additional noise, it is recommended to work directly on thespatial observations with the compositional annotation of interest where possible."
   ]
  },
  {
   "cell_type": "markdown",
   "metadata": {},
   "source": [
    "## Analyse co-occurrence and neighbourhips"
   ]
  },
  {
   "cell_type": "markdown",
   "metadata": {},
   "source": [
    "Downstream analyses are possible on compositionally annotated pucks as well as on the single cell data annotated with the position of the beads with maximum weight.\n",
    "As noted above working on the compositionally annotated spatial data is recommended if possible."
   ]
  },
  {
   "cell_type": "code",
   "execution_count": null,
   "metadata": {},
   "outputs": [],
   "source": [
    "tc.tl.co_occurrence(puck, 'type', result_key='type-type',delta_distance=20,max_distance=1000,sparse=False,n_permutation=10)"
   ]
  },
  {
   "cell_type": "code",
   "execution_count": null,
   "metadata": {},
   "outputs": [],
   "source": [
    "tc.tl.co_occurrence(reference, 'type', result_key='type-type',delta_distance=20,max_distance=1000,sparse=False,n_permutation=10)"
   ]
  },
  {
   "cell_type": "code",
   "execution_count": null,
   "metadata": {},
   "outputs": [],
   "source": [
    "fig = tc.pl.co_occurrence({'SlideSeq':puck,'single cell':reference}, 'type-type', log_base=2, wspace=0.25);"
   ]
  },
  {
   "cell_type": "code",
   "execution_count": null,
   "metadata": {},
   "outputs": [],
   "source": []
  }
 ],
 "metadata": {
  "_kernelspec": {
   "display_name": "smk_tacco",
   "language": "python",
   "name": "smk_tacco"
  },
  "language_info": {
   "codemirror_mode": {
    "name": "ipython",
    "version": 3
   },
   "file_extension": ".py",
   "mimetype": "text/x-python",
   "name": "python",
   "nbconvert_exporter": "python",
   "pygments_lexer": "ipython3",
   "version": "3.10.6"
  }
 },
 "nbformat": 4,
 "nbformat_minor": 4
}
