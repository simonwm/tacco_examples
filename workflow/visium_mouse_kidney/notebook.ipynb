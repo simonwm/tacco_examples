{
 "cells": [
  {
   "cell_type": "markdown",
   "id": "bc0f3933-553c-497a-828e-b7c378da76ba",
   "metadata": {},
   "source": [
    "# Visium Mouse Kidney\n",
    "\n",
    "This example uses TACCO to annotate and analyse 2 mouse kidney Visium samples (1), (2) with mouse kidney scRNA-seq data as reference (3).\n",
    "\n",
    "(1) Visium spatial gene expression from adult C57BL/6 mouse kidney, (v1, FFPE), Spatial Gene Expression Dataset by Space Ranger 1.3.0, 10x Genomics, (2021, August 16).\n",
    "https://www.10xgenomics.com/resources/datasets/adult-mouse-kidney-ffpe-1-standard-1-3-0\n",
    "\n",
    "(2) Visium spatial gene expression from adult C57BL/6 mouse kidney section (coronal), (v1, FF), Spatial Gene Expression Dataset by Space Ranger 1.1.0, 10x Genomics (2020, June 23). \n",
    "https://www.10xgenomics.com/resources/datasets/mouse-kidney-section-coronal-1-standard-1-1-0\n",
    "\n",
    "(3) The Tabula Muris Consortium., Overall coordination., Logistical coordination. et al. Single-cell transcriptomics of 20 mouse organs creates a Tabula Muris. Nature 562, 367–372 (2018). https://doi.org/10.1038/s41586-018-0590-4."
   ]
  },
  {
   "cell_type": "code",
   "execution_count": null,
   "id": "3afe3293-46ed-4bdf-83d1-cd0bc02882c9",
   "metadata": {},
   "outputs": [],
   "source": [
    "import os\n",
    "import sys\n",
    "\n",
    "import numpy as np\n",
    "import matplotlib\n",
    "import matplotlib.pyplot as plt\n",
    "import pandas as pd\n",
    "import anndata as ad\n",
    "import scanpy as sc\n",
    "\n",
    "import squidpy as sq\n",
    "import tacco as tc\n",
    "\n",
    "# The notebook expects to be executed either in the workflow directory or in the repository root folder...\n",
    "sys.path.insert(1, os.path.abspath('workflow' if os.path.exists('workflow/common_code.py') else '..')) \n",
    "import common_code"
   ]
  },
  {
   "cell_type": "markdown",
   "id": "1aa2ef24-cb30-482f-899c-ccc74dc5dda4",
   "metadata": {},
   "source": [
    "## Load data"
   ]
  },
  {
   "cell_type": "markdown",
   "id": "6945eeb8-dcac-4f9a-ad8e-2244c29acea9",
   "metadata": {},
   "source": [
    "Visium data is loaded from a prepared `.h5ad` file, which is created in file `workflow/visium_mouse_kidney/prepVisium_mouse_spatial_data.py` using squidpy, e.g., `adata = sq.read.visium(visium_path)`"
   ]
  },
  {
   "cell_type": "code",
   "execution_count": null,
   "id": "532f5739-f22e-48c4-bde8-a3a915b89c94",
   "metadata": {},
   "outputs": [],
   "source": [
    "data_path = common_code.find_path('results/visium_mouse_kidney/data')\n",
    "plot_path = common_code.find_path('results/visium_mouse_kidney')"
   ]
  },
  {
   "cell_type": "code",
   "execution_count": null,
   "id": "4dc44695-4c29-4bbb-aeaa-7ab8e3551915",
   "metadata": {},
   "outputs": [],
   "source": [
    "reference = ad.read(f'{data_path}/TabulaMurisKidney.h5ad')\n",
    "slide_1 = ad.read(f'{data_path}/MouseKidney_visium.h5ad')\n",
    "slide_1.var_names_make_unique()\n",
    "slide_2 = ad.read(f'{data_path}/MouseKidneyCoronal_v110_visium.h5ad')\n",
    "slide_2.var_names_make_unique()"
   ]
  },
  {
   "cell_type": "markdown",
   "id": "bca36716-a25f-4f80-a259-5c8b25730f36",
   "metadata": {},
   "source": [
    "Later, we want to annotate both slides consistently, so we merge their data into a single Anndata object."
   ]
  },
  {
   "cell_type": "code",
   "execution_count": null,
   "id": "9f4602c8-2625-42c8-aab1-7bbb5ed9cd0f",
   "metadata": {},
   "outputs": [],
   "source": [
    "# Merge slides\n",
    "slide_m = ad.concat([slide_1,slide_2], index_unique=\"_\")\n",
    "slide_m.obs['slide'] = slide_m.obs['slide'].astype(\"category\")"
   ]
  },
  {
   "cell_type": "markdown",
   "id": "6b8ba9d8-588d-415f-a77d-2927cc8c6310",
   "metadata": {},
   "source": [
    "## Plotting options"
   ]
  },
  {
   "cell_type": "code",
   "execution_count": null,
   "id": "0b56cdb8-a18f-4f30-99b9-2b3b021e7211",
   "metadata": {},
   "outputs": [],
   "source": [
    "matplotlib.rcParams['figure.dpi'] = 100.0\n",
    "\n",
    "axsize = np.array([4,3])*0.5"
   ]
  },
  {
   "cell_type": "markdown",
   "id": "4ea37308-40e6-47c4-a5d9-658523a56d7a",
   "metadata": {},
   "source": [
    "## Cell types"
   ]
  },
  {
   "cell_type": "code",
   "execution_count": null,
   "id": "1696c31b-227d-481c-8831-94048bd1a9d2",
   "metadata": {},
   "outputs": [],
   "source": [
    "# Annotate with merged slides\n",
    "tc.tl.annotate(slide_m,reference,'cell_ontology_class',result_key='cell_ontology_class',multi_center=3,lamb=1e-3)"
   ]
  },
  {
   "cell_type": "code",
   "execution_count": null,
   "id": "0646aaf0-d3fe-48b1-95c6-a6fb8d12fe95",
   "metadata": {},
   "outputs": [],
   "source": [
    "fig = tc.pl.scatter(slide_m, keys='cell_ontology_class', group_key='slide', position_key=['x','y'], joint=True, point_size=1, axsize=axsize, noticks=True, axes_labels=['X','Y'], );"
   ]
  },
  {
   "cell_type": "markdown",
   "id": "c107895e-4404-429f-899e-fc5665a682a8",
   "metadata": {},
   "source": [
    "## Regions"
   ]
  },
  {
   "cell_type": "code",
   "execution_count": null,
   "id": "bda3a66a-387c-47be-be03-ef8bc3c471eb",
   "metadata": {},
   "outputs": [],
   "source": [
    "# Find consistent regions on merged slides\n",
    "tc.tl.find_regions(slide_m,key_added='regions',batch_key='slide',position_weight=20,resolution=1.0,annotation_key=None,amplitudes=False,cross_batch_overweight_factor=100,n_neighbors=1000)\n",
    "slide_m.obs['regions'] = slide_m.obs['regions'].map(lambda x: f'region_{x}').astype('category')"
   ]
  },
  {
   "cell_type": "code",
   "execution_count": null,
   "id": "efa16ed2-880d-4f94-be73-abc824810095",
   "metadata": {},
   "outputs": [],
   "source": [
    "fig = tc.pl.scatter(slide_m,keys='regions',group_key='slide',joint=True,axsize=axsize,point_size=1,noticks=True,axes_labels=['X','Y'],share_scaling=True);"
   ]
  },
  {
   "cell_type": "markdown",
   "id": "df283079-3a99-4c1c-837f-50cac3cbf028",
   "metadata": {},
   "source": [
    "## Squidpy Plots"
   ]
  },
  {
   "cell_type": "markdown",
   "id": "7e2145ef-f0c4-4fd5-aaa8-0f21b5e30b5b",
   "metadata": {},
   "source": [
    "Tacco's analysis does not create custom objects, and relies on the functionality in Anndata instead. Therefore other Anndata-based tools can be included in Tacco workflows, as well, e.g., Squidpy for the visualization of annotation on top of the Visium H&E image."
   ]
  },
  {
   "cell_type": "code",
   "execution_count": null,
   "id": "3496bf61-5489-4e19-b7ea-20a2db411062",
   "metadata": {},
   "outputs": [],
   "source": [
    "slide_1.obs_names = slide_1.obs_names.map(lambda x: x + \"_0\")\n",
    "slide_2.obs_names = slide_2.obs_names.map(lambda x: x + \"_1\")"
   ]
  },
  {
   "cell_type": "code",
   "execution_count": null,
   "id": "d7607bac-b8d8-456a-9e18-027b18f345c8",
   "metadata": {},
   "outputs": [],
   "source": [
    "# Map annotations back to original adatas \n",
    "for col in slide_m[slide_m.obs[\"slide\"]==\"slide_1\"].obsm[\"cell_ontology_class\"].columns:\n",
    "    slide_1.obs[col] = slide_m.obsm[\"cell_ontology_class\"][col]\n",
    "\n",
    "for col in slide_m[slide_m.obs[\"slide\"]==\"slide_2\"].obsm[\"cell_ontology_class\"].columns:\n",
    "    slide_2.obs[col] = slide_m.obsm[\"cell_ontology_class\"][col]\n",
    "\n",
    "slide_1.obs[\"regions\"] = slide_m[slide_m.obs[\"slide\"]==\"slide_1\"].obs[\"regions\"]    \n",
    "slide_2.obs[\"regions\"] = slide_m[slide_m.obs[\"slide\"]==\"slide_2\"].obs[\"regions\"]    "
   ]
  },
  {
   "cell_type": "code",
   "execution_count": null,
   "id": "63ef5dc2-f9a7-4289-8a83-0f6efaf34217",
   "metadata": {},
   "outputs": [],
   "source": [
    "celltypes = ['endothelial cell', 'fenestrated cell', 'fibroblast', 'kidney collecting duct cell', 'kidney tubule cell', 'leukocyte', 'macrophage', 'smooth muscle cell']\n",
    "for slide in [slide_1, slide_2]:\n",
    "    fig, axes = tc.pl.subplots(n_x = 4, n_y = 2);\n",
    "    axes = np.ravel(axes)\n",
    "    for j, celltype in enumerate(celltypes):\n",
    "        sq.pl.spatial_scatter(slide, library_key='hires', color=celltype, ax=axes[j], img_alpha=0.5)\n",
    "    axes = np.reshape(axes, (4,2))\n",
    "    plt.show()"
   ]
  },
  {
   "cell_type": "code",
   "execution_count": null,
   "id": "47f91a6f-1d82-4c4a-b64e-b29f1d0edd9f",
   "metadata": {},
   "outputs": [],
   "source": [
    "fig, axes = tc.pl.subplots(n_x=2, n_y=1, wspace=.5)\n",
    "sq.pl.spatial_scatter(slide_1, library_key='hires', color=\"regions\", ax=axes[0][0], img_alpha=0.5);\n",
    "sq.pl.spatial_scatter(slide_2, library_key='hires', color=\"regions\", ax=axes[0][1], img_alpha=0.5);"
   ]
  },
  {
   "cell_type": "code",
   "execution_count": null,
   "id": "e9f8bc16-c193-44de-bce9-e48228168757",
   "metadata": {},
   "outputs": [],
   "source": []
  }
 ],
 "metadata": {
  "kernelspec": {
   "display_name": "",
   "name": ""
  },
  "language_info": {
   "codemirror_mode": {
    "name": "ipython",
    "version": 3
   },
   "file_extension": ".py",
   "mimetype": "text/x-python",
   "name": "python",
   "nbconvert_exporter": "python",
   "pygments_lexer": "ipython3",
   "version": "3.10.9"
  }
 },
 "nbformat": 4,
 "nbformat_minor": 5
}
